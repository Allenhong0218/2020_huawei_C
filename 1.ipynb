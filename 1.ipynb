{
 "cells": [
  {
   "cell_type": "code",
   "execution_count": 10,
   "metadata": {
    "collapsed": true,
    "tags": []
   },
   "outputs": [],
   "source": [
    "import pandas as pd\n",
    "import numpy as np\n",
    "import os\n",
    "import matplotlib.pyplot as plt\n",
    "import random\n",
    "import joblib\n",
    "from tqdm import tqdm"
   ]
  },
  {
   "cell_type": "code",
   "execution_count": 11,
   "outputs": [],
   "source": [
    "CHAR_SHEET_TRAIN = ['char01(B)', 'char02(D)', 'char03(G)', 'char04(L)', 'char05(O)', 'char06(Q)',\n",
    "                    'char07(S)', 'char08(V)', 'char09(Z)', 'char10(4)', 'char11(7)', 'char12(9)']\n",
    "CHAR_SHEET_TEST = ['char' + str(i) for i in range(13, 23)]"
   ],
   "metadata": {
    "collapsed": false,
    "pycharm": {
     "name": "#%%\n"
    },
    "tags": []
   }
  },
  {
   "cell_type": "code",
   "execution_count": 12,
   "outputs": [],
   "source": [
    "def read_single_excel(root, prefix, file_type, sheetName):\n",
    "    path = os.path.join(root, prefix, prefix + file_type + '.xlsx')\n",
    "    data = pd.read_excel(path, sheet_name=sheetName, header=None)\n",
    "    print(f'file path: {path}, \\t sheet name: {sheetName}, \\t shape: {data.shape}')\n",
    "    return data\n",
    "def data_exists(root,variable_name):\n",
    "    path = os.path.join(root, variable_name + '.pkl')\n",
    "    return os.path.exists(path)\n",
    "def load_data(root,variable_name):\n",
    "    path = os.path.join(root, variable_name + '.pkl')\n",
    "    return joblib.load(path)\n",
    "def save_data(root,variable_name,variable):\n",
    "    path = os.path.join(root, variable_name + '.pkl')\n",
    "    return joblib.dump(variable, path)"
   ],
   "metadata": {
    "collapsed": false,
    "pycharm": {
     "name": "#%%\n"
    }
   }
  },
  {
   "cell_type": "code",
   "execution_count": 13,
   "metadata": {
    "tags": []
   },
   "outputs": [
    {
     "output_type": "stream",
     "name": "stdout",
     "text": "5, \t 5, \t 5, \t 5\n12, \t 12, \t 10, \t 10\n<class 'pandas.core.frame.DataFrame'>\n"
    }
   ],
   "source": [
    "# 读取数据\n",
    "root = './'\n",
    "train_data, test_data, test_event, train_event = [], [], [], []\n",
    "if data_exists(root, 'train_data'):\n",
    "    train_data=load_data(root, 'train_data')\n",
    "    test_data=load_data(root, 'test_data')\n",
    "    test_event=load_data(root, 'test_event')\n",
    "    train_event=load_data(root, 'train_event')\n",
    "else:\n",
    "    for i in range(1, 6):\n",
    "        prefix = 'S' + str(i)\n",
    "        train_data_i, test_data_i, test_event_i, train_event_i = [], [], [], []\n",
    "        for sheet_name in CHAR_SHEET_TRAIN:\n",
    "            train_data_i.append(read_single_excel(root, prefix, '_train_data', sheet_name))\n",
    "            train_event_i.append(read_single_excel(root, prefix, '_train_event', sheet_name))\n",
    "        for sheet_name in CHAR_SHEET_TEST:\n",
    "            if i == 2 and sheet_name == 'char22': # 跳过 S2 数据缺失问题\n",
    "                test_data_i.append(read_single_excel(root, prefix, '_test_data', sheet_name))\n",
    "                test_event_i.append(None)\n",
    "                continue\n",
    "            if i == 3 and sheet_name == 'char22': # 跳过 S3 数据缺失问题\n",
    "                test_data_i.append(None)\n",
    "                test_event_i.append(read_single_excel(root, prefix, '_test_event', sheet_name))\n",
    "                continue\n",
    "            test_data_i.append(read_single_excel(root, prefix, '_test_data', sheet_name))\n",
    "            test_event_i.append(read_single_excel(root, prefix, '_test_event', sheet_name))\n",
    "        train_data.append(train_data_i)\n",
    "        test_data.append(test_data_i)\n",
    "        test_event.append(test_event_i)\n",
    "        train_event.append(train_event_i)\n",
    "    save_data(root, 'train_data', train_data)\n",
    "    save_data(root, 'test_data', test_data)\n",
    "    save_data(root, 'test_event', test_event)\n",
    "    save_data(root, 'train_event', train_event)\n",
    "print(f'{len(train_data)}, \\t {len(train_event)}, \\t {len(test_data)}, \\t {len(test_event)}')\n",
    "print(f'{len(train_data[0])}, \\t {len(train_event[0])}, \\t {len(test_data[0])}, \\t {len(test_event[0])}')\n",
    "print(type(train_data[0][0]))"
   ]
  },
  {
   "cell_type": "code",
   "execution_count": 14,
   "metadata": {},
   "outputs": [
    {
     "output_type": "execute_result",
     "data": {
      "text/plain": "0       10849.580815\n1       10849.893740\n2       10848.016193\n3       10845.781019\n4       10846.719792\n            ...     \n2995    10960.132537\n2996    10962.010083\n2997    10966.793356\n2998    10967.016874\n2999    10966.793356\nName: 0, Length: 3000, dtype: float64"
     },
     "metadata": {},
     "execution_count": 14
    }
   ],
   "source": [
    "train_data[0][0].iloc[:3000,0]"
   ]
  },
  {
   "cell_type": "code",
   "execution_count": 15,
   "metadata": {},
   "outputs": [
    {
     "output_type": "execute_result",
     "data": {
      "text/plain": "(3125, 20)"
     },
     "metadata": {},
     "execution_count": 15
    }
   ],
   "source": [
    "train_data[0][0].shape"
   ]
  },
  {
   "cell_type": "code",
   "execution_count": 16,
   "metadata": {},
   "outputs": [
    {
     "output_type": "display_data",
     "data": {
      "text/plain": "<Figure size 432x288 with 1 Axes>",
      "image/svg+xml": "<?xml version=\"1.0\" encoding=\"utf-8\" standalone=\"no\"?>\n<!DOCTYPE svg PUBLIC \"-//W3C//DTD SVG 1.1//EN\"\n  \"http://www.w3.org/Graphics/SVG/1.1/DTD/svg11.dtd\">\n<!-- Created with matplotlib (https://matplotlib.org/) -->\n<svg height=\"277.314375pt\" version=\"1.1\" viewBox=\"0 0 400.523438 277.314375\" width=\"400.523438pt\" xmlns=\"http://www.w3.org/2000/svg\" xmlns:xlink=\"http://www.w3.org/1999/xlink\">\n <metadata>\n  <rdf:RDF xmlns:cc=\"http://creativecommons.org/ns#\" xmlns:dc=\"http://purl.org/dc/elements/1.1/\" xmlns:rdf=\"http://www.w3.org/1999/02/22-rdf-syntax-ns#\">\n   <cc:Work>\n    <dc:type rdf:resource=\"http://purl.org/dc/dcmitype/StillImage\"/>\n    <dc:date>2020-09-19T18:46:42.306999</dc:date>\n    <dc:format>image/svg+xml</dc:format>\n    <dc:creator>\n     <cc:Agent>\n      <dc:title>Matplotlib v3.3.2, https://matplotlib.org/</dc:title>\n     </cc:Agent>\n    </dc:creator>\n   </cc:Work>\n  </rdf:RDF>\n </metadata>\n <defs>\n  <style type=\"text/css\">*{stroke-linecap:butt;stroke-linejoin:round;}</style>\n </defs>\n <g id=\"figure_1\">\n  <g id=\"patch_1\">\n   <path d=\"M 0 277.314375 \nL 400.523438 277.314375 \nL 400.523438 0 \nL 0 0 \nz\n\" style=\"fill:none;\"/>\n  </g>\n  <g id=\"axes_1\">\n   <g id=\"patch_2\">\n    <path d=\"M 58.523438 239.758125 \nL 393.323438 239.758125 \nL 393.323438 22.318125 \nL 58.523438 22.318125 \nz\n\" style=\"fill:#ffffff;\"/>\n   </g>\n   <g id=\"matplotlib.axis_1\">\n    <g id=\"xtick_1\">\n     <g id=\"line2d_1\">\n      <defs>\n       <path d=\"M 0 0 \nL 0 3.5 \n\" id=\"md1d21025aa\" style=\"stroke:#000000;stroke-width:0.8;\"/>\n      </defs>\n      <g>\n       <use style=\"stroke:#000000;stroke-width:0.8;\" x=\"73.741619\" xlink:href=\"#md1d21025aa\" y=\"239.758125\"/>\n      </g>\n     </g>\n     <g id=\"text_1\">\n      <!-- 500 -->\n      <g transform=\"translate(64.197869 254.356562)scale(0.1 -0.1)\">\n       <defs>\n        <path d=\"M 10.796875 72.90625 \nL 49.515625 72.90625 \nL 49.515625 64.59375 \nL 19.828125 64.59375 \nL 19.828125 46.734375 \nQ 21.96875 47.46875 24.109375 47.828125 \nQ 26.265625 48.1875 28.421875 48.1875 \nQ 40.625 48.1875 47.75 41.5 \nQ 54.890625 34.8125 54.890625 23.390625 \nQ 54.890625 11.625 47.5625 5.09375 \nQ 40.234375 -1.421875 26.90625 -1.421875 \nQ 22.3125 -1.421875 17.546875 -0.640625 \nQ 12.796875 0.140625 7.71875 1.703125 \nL 7.71875 11.625 \nQ 12.109375 9.234375 16.796875 8.0625 \nQ 21.484375 6.890625 26.703125 6.890625 \nQ 35.15625 6.890625 40.078125 11.328125 \nQ 45.015625 15.765625 45.015625 23.390625 \nQ 45.015625 31 40.078125 35.4375 \nQ 35.15625 39.890625 26.703125 39.890625 \nQ 22.75 39.890625 18.8125 39.015625 \nQ 14.890625 38.140625 10.796875 36.28125 \nz\n\" id=\"DejaVuSans-53\"/>\n        <path d=\"M 31.78125 66.40625 \nQ 24.171875 66.40625 20.328125 58.90625 \nQ 16.5 51.421875 16.5 36.375 \nQ 16.5 21.390625 20.328125 13.890625 \nQ 24.171875 6.390625 31.78125 6.390625 \nQ 39.453125 6.390625 43.28125 13.890625 \nQ 47.125 21.390625 47.125 36.375 \nQ 47.125 51.421875 43.28125 58.90625 \nQ 39.453125 66.40625 31.78125 66.40625 \nz\nM 31.78125 74.21875 \nQ 44.046875 74.21875 50.515625 64.515625 \nQ 56.984375 54.828125 56.984375 36.375 \nQ 56.984375 17.96875 50.515625 8.265625 \nQ 44.046875 -1.421875 31.78125 -1.421875 \nQ 19.53125 -1.421875 13.0625 8.265625 \nQ 6.59375 17.96875 6.59375 36.375 \nQ 6.59375 54.828125 13.0625 64.515625 \nQ 19.53125 74.21875 31.78125 74.21875 \nz\n\" id=\"DejaVuSans-48\"/>\n       </defs>\n       <use xlink:href=\"#DejaVuSans-53\"/>\n       <use x=\"63.623047\" xlink:href=\"#DejaVuSans-48\"/>\n       <use x=\"127.246094\" xlink:href=\"#DejaVuSans-48\"/>\n      </g>\n     </g>\n    </g>\n    <g id=\"xtick_2\">\n     <g id=\"line2d_2\">\n      <g>\n       <use style=\"stroke:#000000;stroke-width:0.8;\" x=\"111.978257\" xlink:href=\"#md1d21025aa\" y=\"239.758125\"/>\n      </g>\n     </g>\n     <g id=\"text_2\">\n      <!-- 525 -->\n      <g transform=\"translate(102.434507 254.356562)scale(0.1 -0.1)\">\n       <defs>\n        <path d=\"M 19.1875 8.296875 \nL 53.609375 8.296875 \nL 53.609375 0 \nL 7.328125 0 \nL 7.328125 8.296875 \nQ 12.9375 14.109375 22.625 23.890625 \nQ 32.328125 33.6875 34.8125 36.53125 \nQ 39.546875 41.84375 41.421875 45.53125 \nQ 43.3125 49.21875 43.3125 52.78125 \nQ 43.3125 58.59375 39.234375 62.25 \nQ 35.15625 65.921875 28.609375 65.921875 \nQ 23.96875 65.921875 18.8125 64.3125 \nQ 13.671875 62.703125 7.8125 59.421875 \nL 7.8125 69.390625 \nQ 13.765625 71.78125 18.9375 73 \nQ 24.125 74.21875 28.421875 74.21875 \nQ 39.75 74.21875 46.484375 68.546875 \nQ 53.21875 62.890625 53.21875 53.421875 \nQ 53.21875 48.921875 51.53125 44.890625 \nQ 49.859375 40.875 45.40625 35.40625 \nQ 44.1875 33.984375 37.640625 27.21875 \nQ 31.109375 20.453125 19.1875 8.296875 \nz\n\" id=\"DejaVuSans-50\"/>\n       </defs>\n       <use xlink:href=\"#DejaVuSans-53\"/>\n       <use x=\"63.623047\" xlink:href=\"#DejaVuSans-50\"/>\n       <use x=\"127.246094\" xlink:href=\"#DejaVuSans-53\"/>\n      </g>\n     </g>\n    </g>\n    <g id=\"xtick_3\">\n     <g id=\"line2d_3\">\n      <g>\n       <use style=\"stroke:#000000;stroke-width:0.8;\" x=\"150.214895\" xlink:href=\"#md1d21025aa\" y=\"239.758125\"/>\n      </g>\n     </g>\n     <g id=\"text_3\">\n      <!-- 550 -->\n      <g transform=\"translate(140.671145 254.356562)scale(0.1 -0.1)\">\n       <use xlink:href=\"#DejaVuSans-53\"/>\n       <use x=\"63.623047\" xlink:href=\"#DejaVuSans-53\"/>\n       <use x=\"127.246094\" xlink:href=\"#DejaVuSans-48\"/>\n      </g>\n     </g>\n    </g>\n    <g id=\"xtick_4\">\n     <g id=\"line2d_4\">\n      <g>\n       <use style=\"stroke:#000000;stroke-width:0.8;\" x=\"188.451533\" xlink:href=\"#md1d21025aa\" y=\"239.758125\"/>\n      </g>\n     </g>\n     <g id=\"text_4\">\n      <!-- 575 -->\n      <g transform=\"translate(178.907783 254.356562)scale(0.1 -0.1)\">\n       <defs>\n        <path d=\"M 8.203125 72.90625 \nL 55.078125 72.90625 \nL 55.078125 68.703125 \nL 28.609375 0 \nL 18.3125 0 \nL 43.21875 64.59375 \nL 8.203125 64.59375 \nz\n\" id=\"DejaVuSans-55\"/>\n       </defs>\n       <use xlink:href=\"#DejaVuSans-53\"/>\n       <use x=\"63.623047\" xlink:href=\"#DejaVuSans-55\"/>\n       <use x=\"127.246094\" xlink:href=\"#DejaVuSans-53\"/>\n      </g>\n     </g>\n    </g>\n    <g id=\"xtick_5\">\n     <g id=\"line2d_5\">\n      <g>\n       <use style=\"stroke:#000000;stroke-width:0.8;\" x=\"226.68817\" xlink:href=\"#md1d21025aa\" y=\"239.758125\"/>\n      </g>\n     </g>\n     <g id=\"text_5\">\n      <!-- 600 -->\n      <g transform=\"translate(217.14442 254.356562)scale(0.1 -0.1)\">\n       <defs>\n        <path d=\"M 33.015625 40.375 \nQ 26.375 40.375 22.484375 35.828125 \nQ 18.609375 31.296875 18.609375 23.390625 \nQ 18.609375 15.53125 22.484375 10.953125 \nQ 26.375 6.390625 33.015625 6.390625 \nQ 39.65625 6.390625 43.53125 10.953125 \nQ 47.40625 15.53125 47.40625 23.390625 \nQ 47.40625 31.296875 43.53125 35.828125 \nQ 39.65625 40.375 33.015625 40.375 \nz\nM 52.59375 71.296875 \nL 52.59375 62.3125 \nQ 48.875 64.0625 45.09375 64.984375 \nQ 41.3125 65.921875 37.59375 65.921875 \nQ 27.828125 65.921875 22.671875 59.328125 \nQ 17.53125 52.734375 16.796875 39.40625 \nQ 19.671875 43.65625 24.015625 45.921875 \nQ 28.375 48.1875 33.59375 48.1875 \nQ 44.578125 48.1875 50.953125 41.515625 \nQ 57.328125 34.859375 57.328125 23.390625 \nQ 57.328125 12.15625 50.6875 5.359375 \nQ 44.046875 -1.421875 33.015625 -1.421875 \nQ 20.359375 -1.421875 13.671875 8.265625 \nQ 6.984375 17.96875 6.984375 36.375 \nQ 6.984375 53.65625 15.1875 63.9375 \nQ 23.390625 74.21875 37.203125 74.21875 \nQ 40.921875 74.21875 44.703125 73.484375 \nQ 48.484375 72.75 52.59375 71.296875 \nz\n\" id=\"DejaVuSans-54\"/>\n       </defs>\n       <use xlink:href=\"#DejaVuSans-54\"/>\n       <use x=\"63.623047\" xlink:href=\"#DejaVuSans-48\"/>\n       <use x=\"127.246094\" xlink:href=\"#DejaVuSans-48\"/>\n      </g>\n     </g>\n    </g>\n    <g id=\"xtick_6\">\n     <g id=\"line2d_6\">\n      <g>\n       <use style=\"stroke:#000000;stroke-width:0.8;\" x=\"264.924808\" xlink:href=\"#md1d21025aa\" y=\"239.758125\"/>\n      </g>\n     </g>\n     <g id=\"text_6\">\n      <!-- 625 -->\n      <g transform=\"translate(255.381058 254.356562)scale(0.1 -0.1)\">\n       <use xlink:href=\"#DejaVuSans-54\"/>\n       <use x=\"63.623047\" xlink:href=\"#DejaVuSans-50\"/>\n       <use x=\"127.246094\" xlink:href=\"#DejaVuSans-53\"/>\n      </g>\n     </g>\n    </g>\n    <g id=\"xtick_7\">\n     <g id=\"line2d_7\">\n      <g>\n       <use style=\"stroke:#000000;stroke-width:0.8;\" x=\"303.161446\" xlink:href=\"#md1d21025aa\" y=\"239.758125\"/>\n      </g>\n     </g>\n     <g id=\"text_7\">\n      <!-- 650 -->\n      <g transform=\"translate(293.617696 254.356562)scale(0.1 -0.1)\">\n       <use xlink:href=\"#DejaVuSans-54\"/>\n       <use x=\"63.623047\" xlink:href=\"#DejaVuSans-53\"/>\n       <use x=\"127.246094\" xlink:href=\"#DejaVuSans-48\"/>\n      </g>\n     </g>\n    </g>\n    <g id=\"xtick_8\">\n     <g id=\"line2d_8\">\n      <g>\n       <use style=\"stroke:#000000;stroke-width:0.8;\" x=\"341.398083\" xlink:href=\"#md1d21025aa\" y=\"239.758125\"/>\n      </g>\n     </g>\n     <g id=\"text_8\">\n      <!-- 675 -->\n      <g transform=\"translate(331.854333 254.356562)scale(0.1 -0.1)\">\n       <use xlink:href=\"#DejaVuSans-54\"/>\n       <use x=\"63.623047\" xlink:href=\"#DejaVuSans-55\"/>\n       <use x=\"127.246094\" xlink:href=\"#DejaVuSans-53\"/>\n      </g>\n     </g>\n    </g>\n    <g id=\"xtick_9\">\n     <g id=\"line2d_9\">\n      <g>\n       <use style=\"stroke:#000000;stroke-width:0.8;\" x=\"379.634721\" xlink:href=\"#md1d21025aa\" y=\"239.758125\"/>\n      </g>\n     </g>\n     <g id=\"text_9\">\n      <!-- 700 -->\n      <g transform=\"translate(370.090971 254.356562)scale(0.1 -0.1)\">\n       <use xlink:href=\"#DejaVuSans-55\"/>\n       <use x=\"63.623047\" xlink:href=\"#DejaVuSans-48\"/>\n       <use x=\"127.246094\" xlink:href=\"#DejaVuSans-48\"/>\n      </g>\n     </g>\n    </g>\n    <g id=\"text_10\">\n     <!-- T -->\n     <g transform=\"translate(222.869531 268.034687)scale(0.1 -0.1)\">\n      <defs>\n       <path d=\"M -0.296875 72.90625 \nL 61.375 72.90625 \nL 61.375 64.59375 \nL 35.5 64.59375 \nL 35.5 0 \nL 25.59375 0 \nL 25.59375 64.59375 \nL -0.296875 64.59375 \nz\n\" id=\"DejaVuSans-84\"/>\n      </defs>\n      <use xlink:href=\"#DejaVuSans-84\"/>\n     </g>\n    </g>\n   </g>\n   <g id=\"matplotlib.axis_2\">\n    <g id=\"ytick_1\">\n     <g id=\"line2d_10\">\n      <defs>\n       <path d=\"M 0 0 \nL -3.5 0 \n\" id=\"mf8ca256627\" style=\"stroke:#000000;stroke-width:0.8;\"/>\n      </defs>\n      <g>\n       <use style=\"stroke:#000000;stroke-width:0.8;\" x=\"58.523438\" xlink:href=\"#mf8ca256627\" y=\"219.367146\"/>\n      </g>\n     </g>\n     <g id=\"text_11\">\n      <!-- −0.02 -->\n      <g transform=\"translate(20.878125 223.166364)scale(0.1 -0.1)\">\n       <defs>\n        <path d=\"M 10.59375 35.5 \nL 73.1875 35.5 \nL 73.1875 27.203125 \nL 10.59375 27.203125 \nz\n\" id=\"DejaVuSans-8722\"/>\n        <path d=\"M 10.6875 12.40625 \nL 21 12.40625 \nL 21 0 \nL 10.6875 0 \nz\n\" id=\"DejaVuSans-46\"/>\n       </defs>\n       <use xlink:href=\"#DejaVuSans-8722\"/>\n       <use x=\"83.789062\" xlink:href=\"#DejaVuSans-48\"/>\n       <use x=\"147.412109\" xlink:href=\"#DejaVuSans-46\"/>\n       <use x=\"179.199219\" xlink:href=\"#DejaVuSans-48\"/>\n       <use x=\"242.822266\" xlink:href=\"#DejaVuSans-50\"/>\n      </g>\n     </g>\n    </g>\n    <g id=\"ytick_2\">\n     <g id=\"line2d_11\">\n      <g>\n       <use style=\"stroke:#000000;stroke-width:0.8;\" x=\"58.523438\" xlink:href=\"#mf8ca256627\" y=\"177.462402\"/>\n      </g>\n     </g>\n     <g id=\"text_12\">\n      <!-- −0.01 -->\n      <g transform=\"translate(20.878125 181.261621)scale(0.1 -0.1)\">\n       <defs>\n        <path d=\"M 12.40625 8.296875 \nL 28.515625 8.296875 \nL 28.515625 63.921875 \nL 10.984375 60.40625 \nL 10.984375 69.390625 \nL 28.421875 72.90625 \nL 38.28125 72.90625 \nL 38.28125 8.296875 \nL 54.390625 8.296875 \nL 54.390625 0 \nL 12.40625 0 \nz\n\" id=\"DejaVuSans-49\"/>\n       </defs>\n       <use xlink:href=\"#DejaVuSans-8722\"/>\n       <use x=\"83.789062\" xlink:href=\"#DejaVuSans-48\"/>\n       <use x=\"147.412109\" xlink:href=\"#DejaVuSans-46\"/>\n       <use x=\"179.199219\" xlink:href=\"#DejaVuSans-48\"/>\n       <use x=\"242.822266\" xlink:href=\"#DejaVuSans-49\"/>\n      </g>\n     </g>\n    </g>\n    <g id=\"ytick_3\">\n     <g id=\"line2d_12\">\n      <g>\n       <use style=\"stroke:#000000;stroke-width:0.8;\" x=\"58.523438\" xlink:href=\"#mf8ca256627\" y=\"135.557659\"/>\n      </g>\n     </g>\n     <g id=\"text_13\">\n      <!-- 0.00 -->\n      <g transform=\"translate(29.257813 139.356878)scale(0.1 -0.1)\">\n       <use xlink:href=\"#DejaVuSans-48\"/>\n       <use x=\"63.623047\" xlink:href=\"#DejaVuSans-46\"/>\n       <use x=\"95.410156\" xlink:href=\"#DejaVuSans-48\"/>\n       <use x=\"159.033203\" xlink:href=\"#DejaVuSans-48\"/>\n      </g>\n     </g>\n    </g>\n    <g id=\"ytick_4\">\n     <g id=\"line2d_13\">\n      <g>\n       <use style=\"stroke:#000000;stroke-width:0.8;\" x=\"58.523438\" xlink:href=\"#mf8ca256627\" y=\"93.652916\"/>\n      </g>\n     </g>\n     <g id=\"text_14\">\n      <!-- 0.01 -->\n      <g transform=\"translate(29.257813 97.452134)scale(0.1 -0.1)\">\n       <use xlink:href=\"#DejaVuSans-48\"/>\n       <use x=\"63.623047\" xlink:href=\"#DejaVuSans-46\"/>\n       <use x=\"95.410156\" xlink:href=\"#DejaVuSans-48\"/>\n       <use x=\"159.033203\" xlink:href=\"#DejaVuSans-49\"/>\n      </g>\n     </g>\n    </g>\n    <g id=\"ytick_5\">\n     <g id=\"line2d_14\">\n      <g>\n       <use style=\"stroke:#000000;stroke-width:0.8;\" x=\"58.523438\" xlink:href=\"#mf8ca256627\" y=\"51.748172\"/>\n      </g>\n     </g>\n     <g id=\"text_15\">\n      <!-- 0.02 -->\n      <g transform=\"translate(29.257813 55.547391)scale(0.1 -0.1)\">\n       <use xlink:href=\"#DejaVuSans-48\"/>\n       <use x=\"63.623047\" xlink:href=\"#DejaVuSans-46\"/>\n       <use x=\"95.410156\" xlink:href=\"#DejaVuSans-48\"/>\n       <use x=\"159.033203\" xlink:href=\"#DejaVuSans-50\"/>\n      </g>\n     </g>\n    </g>\n    <g id=\"text_16\">\n     <!-- A -->\n     <g transform=\"translate(14.798438 134.458437)rotate(-90)scale(0.1 -0.1)\">\n      <defs>\n       <path d=\"M 34.1875 63.1875 \nL 20.796875 26.90625 \nL 47.609375 26.90625 \nz\nM 28.609375 72.90625 \nL 39.796875 72.90625 \nL 67.578125 0 \nL 57.328125 0 \nL 50.6875 18.703125 \nL 17.828125 18.703125 \nL 11.1875 0 \nL 0.78125 0 \nz\n\" id=\"DejaVuSans-65\"/>\n      </defs>\n      <use xlink:href=\"#DejaVuSans-65\"/>\n     </g>\n    </g>\n   </g>\n   <g id=\"line2d_15\">\n    <path clip-path=\"url(#pb222c9531c)\" d=\"M 73.741619 165.439732 \nL 75.271085 173.084534 \nL 76.80055 159.97916 \nL 78.330016 125.759572 \nL 79.859481 127.579762 \nL 81.388947 98.456709 \nL 82.918412 113.018235 \nL 84.447878 100.276899 \nL 85.977343 123.939381 \nL 87.506809 103.917281 \nL 89.036274 119.934961 \nL 90.56574 139.95706 \nL 92.095205 126.487648 \nL 93.624671 150.150129 \nL 95.154136 142.505327 \nL 96.683602 180.365297 \nL 98.213067 159.97916 \nL 99.742533 149.422053 \nL 101.271998 153.062434 \nL 102.801464 159.251083 \nL 104.33093 144.689556 \nL 105.860395 173.81261 \nL 107.389861 131.584182 \nL 108.919326 110.469968 \nL 110.448792 139.593022 \nL 111.978257 120.298999 \nL 113.507723 124.667457 \nL 115.037188 94.452289 \nL 116.566654 138.136869 \nL 118.096119 138.136869 \nL 119.625585 147.601862 \nL 121.15505 147.9659 \nL 122.684516 139.95706 \nL 124.213981 148.329938 \nL 125.743447 130.856106 \nL 127.272912 129.035915 \nL 128.802378 95.544403 \nL 130.331843 116.294579 \nL 131.861309 131.584182 \nL 133.390774 95.544403 \nL 134.92024 104.645358 \nL 136.449705 70.789808 \nL 137.979171 32.201761 \nL 139.508636 49.311555 \nL 141.038102 70.061731 \nL 142.567567 68.969617 \nL 144.097033 98.456709 \nL 145.626498 121.755152 \nL 147.155964 97.728632 \nL 148.685429 122.11919 \nL 150.214895 114.474388 \nL 151.74436 118.842846 \nL 153.273826 125.395533 \nL 154.803291 107.921701 \nL 156.332757 129.763991 \nL 157.862222 104.645358 \nL 159.391688 146.145709 \nL 160.921153 132.676297 \nL 162.450619 117.022655 \nL 163.980084 143.597442 \nL 165.50955 142.869366 \nL 167.039015 141.049175 \nL 168.568481 123.939381 \nL 170.097946 139.228984 \nL 171.627412 107.921701 \nL 173.156877 102.825167 \nL 174.686343 87.535563 \nL 176.215808 85.715373 \nL 177.745274 125.395533 \nL 179.274739 110.10593 \nL 180.804205 92.996136 \nL 182.33367 122.847266 \nL 183.863136 115.566503 \nL 185.392602 104.645358 \nL 186.922067 91.904022 \nL 188.451533 89.719793 \nL 189.980998 102.09709 \nL 191.510464 53.680013 \nL 193.039929 90.083831 \nL 194.569395 103.189205 \nL 196.09886 117.386694 \nL 197.628326 114.474388 \nL 199.157791 123.939381 \nL 200.687257 116.658617 \nL 203.746188 140.685137 \nL 205.275653 147.601862 \nL 208.334584 198.931244 \nL 209.86405 197.111053 \nL 211.393515 202.207588 \nL 212.922981 190.922404 \nL 214.452446 159.97916 \nL 215.981912 181.457412 \nL 217.511377 152.698396 \nL 219.040843 148.329938 \nL 220.570308 122.11919 \nL 222.099774 107.193625 \nL 223.629239 68.969617 \nL 225.158705 52.951937 \nL 226.68817 55.136166 \nL 228.217636 54.772128 \nL 229.747101 68.24154 \nL 231.276567 72.609998 \nL 232.806032 72.974037 \nL 234.335498 80.2548 \nL 235.864963 76.614418 \nL 237.394429 83.167105 \nL 238.923894 76.25038 \nL 240.45336 74.794227 \nL 241.982825 99.184785 \nL 243.512291 110.834006 \nL 245.041756 127.943801 \nL 246.571222 147.237824 \nL 248.100687 135.224564 \nL 249.630153 141.049175 \nL 251.159618 158.158969 \nL 252.689084 172.356457 \nL 254.218549 151.242244 \nL 255.748015 153.790511 \nL 257.27748 162.891465 \nL 258.806946 159.615121 \nL 260.336411 103.553243 \nL 261.865877 138.500908 \nL 263.395342 120.663037 \nL 264.924808 106.829587 \nL 266.454273 112.654197 \nL 267.983739 144.689556 \nL 269.513205 130.12803 \nL 271.04267 113.746312 \nL 272.572136 141.777251 \nL 274.101601 119.206884 \nL 275.631067 125.759572 \nL 277.160532 126.487648 \nL 278.689998 135.95264 \nL 280.219463 147.601862 \nL 281.748929 149.422053 \nL 283.278394 146.873785 \nL 284.80786 158.523007 \nL 286.337325 162.163389 \nL 287.866791 212.036618 \nL 289.396256 178.545106 \nL 290.925722 167.987999 \nL 292.455187 180.365297 \nL 293.984653 165.80377 \nL 295.514118 158.158969 \nL 297.043584 160.707236 \nL 298.573049 155.97474 \nL 300.102515 123.575342 \nL 301.63198 149.058015 \nL 303.161446 153.790511 \nL 304.690911 151.97032 \nL 306.220377 171.628381 \nL 307.749842 181.093374 \nL 309.279308 191.286442 \nL 310.808773 180.365297 \nL 312.338239 179.273183 \nL 313.867704 156.702816 \nL 315.39717 169.080114 \nL 316.926635 165.80377 \nL 318.456101 167.623961 \nL 319.985566 204.027778 \nL 321.515032 195.6549 \nL 323.044497 205.847969 \nL 324.573963 168.352038 \nL 326.103428 192.014519 \nL 327.632894 154.154549 \nL 329.162359 229.874489 \nL 330.691825 205.119893 \nL 332.22129 190.922404 \nL 333.750756 212.400656 \nL 335.280221 209.488351 \nL 336.809687 213.128733 \nL 338.339152 177.452992 \nL 339.868618 209.488351 \nL 341.398083 182.913564 \nL 342.927549 211.308542 \nL 344.457014 158.887045 \nL 345.98648 160.707236 \nL 347.515945 141.777251 \nL 349.045411 139.593022 \nL 350.574877 111.198045 \nL 352.104342 120.298999 \nL 353.633808 123.939381 \nL 355.163273 118.478808 \nL 356.692739 104.281319 \nL 358.222204 123.939381 \nL 359.75167 108.285739 \nL 361.281135 120.298999 \nL 362.810601 109.377854 \nL 364.340066 118.478808 \nL 365.869532 88.991716 \nL 367.398997 127.579762 \nL 368.928463 198.567206 \nL 370.457928 146.509747 \nL 371.987394 165.075694 \nL 373.516859 175.996839 \nL 375.046325 161.435312 \nL 376.57579 169.444152 \nL 378.105256 190.558366 \nL 378.105256 190.558366 \n\" style=\"fill:none;stroke:#6b2526;stroke-linecap:square;stroke-width:1.5;\"/>\n   </g>\n   <g id=\"patch_3\">\n    <path d=\"M 58.523438 239.758125 \nL 58.523438 22.318125 \n\" style=\"fill:none;stroke:#000000;stroke-linecap:square;stroke-linejoin:miter;stroke-width:0.8;\"/>\n   </g>\n   <g id=\"patch_4\">\n    <path d=\"M 393.323438 239.758125 \nL 393.323438 22.318125 \n\" style=\"fill:none;stroke:#000000;stroke-linecap:square;stroke-linejoin:miter;stroke-width:0.8;\"/>\n   </g>\n   <g id=\"patch_5\">\n    <path d=\"M 58.523438 239.758125 \nL 393.323438 239.758125 \n\" style=\"fill:none;stroke:#000000;stroke-linecap:square;stroke-linejoin:miter;stroke-width:0.8;\"/>\n   </g>\n   <g id=\"patch_6\">\n    <path d=\"M 58.523438 22.318125 \nL 393.323438 22.318125 \n\" style=\"fill:none;stroke:#000000;stroke-linecap:square;stroke-linejoin:miter;stroke-width:0.8;\"/>\n   </g>\n   <g id=\"text_17\">\n    <!-- Wave Analysis -->\n    <g transform=\"translate(182.826563 16.318125)scale(0.12 -0.12)\">\n     <defs>\n      <path d=\"M 3.328125 72.90625 \nL 13.28125 72.90625 \nL 28.609375 11.28125 \nL 43.890625 72.90625 \nL 54.984375 72.90625 \nL 70.3125 11.28125 \nL 85.59375 72.90625 \nL 95.609375 72.90625 \nL 77.296875 0 \nL 64.890625 0 \nL 49.515625 63.28125 \nL 33.984375 0 \nL 21.578125 0 \nz\n\" id=\"DejaVuSans-87\"/>\n      <path d=\"M 34.28125 27.484375 \nQ 23.390625 27.484375 19.1875 25 \nQ 14.984375 22.515625 14.984375 16.5 \nQ 14.984375 11.71875 18.140625 8.90625 \nQ 21.296875 6.109375 26.703125 6.109375 \nQ 34.1875 6.109375 38.703125 11.40625 \nQ 43.21875 16.703125 43.21875 25.484375 \nL 43.21875 27.484375 \nz\nM 52.203125 31.203125 \nL 52.203125 0 \nL 43.21875 0 \nL 43.21875 8.296875 \nQ 40.140625 3.328125 35.546875 0.953125 \nQ 30.953125 -1.421875 24.3125 -1.421875 \nQ 15.921875 -1.421875 10.953125 3.296875 \nQ 6 8.015625 6 15.921875 \nQ 6 25.140625 12.171875 29.828125 \nQ 18.359375 34.515625 30.609375 34.515625 \nL 43.21875 34.515625 \nL 43.21875 35.40625 \nQ 43.21875 41.609375 39.140625 45 \nQ 35.0625 48.390625 27.6875 48.390625 \nQ 23 48.390625 18.546875 47.265625 \nQ 14.109375 46.140625 10.015625 43.890625 \nL 10.015625 52.203125 \nQ 14.9375 54.109375 19.578125 55.046875 \nQ 24.21875 56 28.609375 56 \nQ 40.484375 56 46.34375 49.84375 \nQ 52.203125 43.703125 52.203125 31.203125 \nz\n\" id=\"DejaVuSans-97\"/>\n      <path d=\"M 2.984375 54.6875 \nL 12.5 54.6875 \nL 29.59375 8.796875 \nL 46.6875 54.6875 \nL 56.203125 54.6875 \nL 35.6875 0 \nL 23.484375 0 \nz\n\" id=\"DejaVuSans-118\"/>\n      <path d=\"M 56.203125 29.59375 \nL 56.203125 25.203125 \nL 14.890625 25.203125 \nQ 15.484375 15.921875 20.484375 11.0625 \nQ 25.484375 6.203125 34.421875 6.203125 \nQ 39.59375 6.203125 44.453125 7.46875 \nQ 49.3125 8.734375 54.109375 11.28125 \nL 54.109375 2.78125 \nQ 49.265625 0.734375 44.1875 -0.34375 \nQ 39.109375 -1.421875 33.890625 -1.421875 \nQ 20.796875 -1.421875 13.15625 6.1875 \nQ 5.515625 13.8125 5.515625 26.8125 \nQ 5.515625 40.234375 12.765625 48.109375 \nQ 20.015625 56 32.328125 56 \nQ 43.359375 56 49.78125 48.890625 \nQ 56.203125 41.796875 56.203125 29.59375 \nz\nM 47.21875 32.234375 \nQ 47.125 39.59375 43.09375 43.984375 \nQ 39.0625 48.390625 32.421875 48.390625 \nQ 24.90625 48.390625 20.390625 44.140625 \nQ 15.875 39.890625 15.1875 32.171875 \nz\n\" id=\"DejaVuSans-101\"/>\n      <path id=\"DejaVuSans-32\"/>\n      <path d=\"M 54.890625 33.015625 \nL 54.890625 0 \nL 45.90625 0 \nL 45.90625 32.71875 \nQ 45.90625 40.484375 42.875 44.328125 \nQ 39.84375 48.1875 33.796875 48.1875 \nQ 26.515625 48.1875 22.3125 43.546875 \nQ 18.109375 38.921875 18.109375 30.90625 \nL 18.109375 0 \nL 9.078125 0 \nL 9.078125 54.6875 \nL 18.109375 54.6875 \nL 18.109375 46.1875 \nQ 21.34375 51.125 25.703125 53.5625 \nQ 30.078125 56 35.796875 56 \nQ 45.21875 56 50.046875 50.171875 \nQ 54.890625 44.34375 54.890625 33.015625 \nz\n\" id=\"DejaVuSans-110\"/>\n      <path d=\"M 9.421875 75.984375 \nL 18.40625 75.984375 \nL 18.40625 0 \nL 9.421875 0 \nz\n\" id=\"DejaVuSans-108\"/>\n      <path d=\"M 32.171875 -5.078125 \nQ 28.375 -14.84375 24.75 -17.8125 \nQ 21.140625 -20.796875 15.09375 -20.796875 \nL 7.90625 -20.796875 \nL 7.90625 -13.28125 \nL 13.1875 -13.28125 \nQ 16.890625 -13.28125 18.9375 -11.515625 \nQ 21 -9.765625 23.484375 -3.21875 \nL 25.09375 0.875 \nL 2.984375 54.6875 \nL 12.5 54.6875 \nL 29.59375 11.921875 \nL 46.6875 54.6875 \nL 56.203125 54.6875 \nz\n\" id=\"DejaVuSans-121\"/>\n      <path d=\"M 44.28125 53.078125 \nL 44.28125 44.578125 \nQ 40.484375 46.53125 36.375 47.5 \nQ 32.28125 48.484375 27.875 48.484375 \nQ 21.1875 48.484375 17.84375 46.4375 \nQ 14.5 44.390625 14.5 40.28125 \nQ 14.5 37.15625 16.890625 35.375 \nQ 19.28125 33.59375 26.515625 31.984375 \nL 29.59375 31.296875 \nQ 39.15625 29.25 43.1875 25.515625 \nQ 47.21875 21.78125 47.21875 15.09375 \nQ 47.21875 7.46875 41.1875 3.015625 \nQ 35.15625 -1.421875 24.609375 -1.421875 \nQ 20.21875 -1.421875 15.453125 -0.5625 \nQ 10.6875 0.296875 5.421875 2 \nL 5.421875 11.28125 \nQ 10.40625 8.6875 15.234375 7.390625 \nQ 20.0625 6.109375 24.8125 6.109375 \nQ 31.15625 6.109375 34.5625 8.28125 \nQ 37.984375 10.453125 37.984375 14.40625 \nQ 37.984375 18.0625 35.515625 20.015625 \nQ 33.0625 21.96875 24.703125 23.78125 \nL 21.578125 24.515625 \nQ 13.234375 26.265625 9.515625 29.90625 \nQ 5.8125 33.546875 5.8125 39.890625 \nQ 5.8125 47.609375 11.28125 51.796875 \nQ 16.75 56 26.8125 56 \nQ 31.78125 56 36.171875 55.265625 \nQ 40.578125 54.546875 44.28125 53.078125 \nz\n\" id=\"DejaVuSans-115\"/>\n      <path d=\"M 9.421875 54.6875 \nL 18.40625 54.6875 \nL 18.40625 0 \nL 9.421875 0 \nz\nM 9.421875 75.984375 \nL 18.40625 75.984375 \nL 18.40625 64.59375 \nL 9.421875 64.59375 \nz\n\" id=\"DejaVuSans-105\"/>\n     </defs>\n     <use xlink:href=\"#DejaVuSans-87\"/>\n     <use x=\"92.501953\" xlink:href=\"#DejaVuSans-97\"/>\n     <use x=\"153.78125\" xlink:href=\"#DejaVuSans-118\"/>\n     <use x=\"212.960938\" xlink:href=\"#DejaVuSans-101\"/>\n     <use x=\"274.484375\" xlink:href=\"#DejaVuSans-32\"/>\n     <use x=\"306.271484\" xlink:href=\"#DejaVuSans-65\"/>\n     <use x=\"374.679688\" xlink:href=\"#DejaVuSans-110\"/>\n     <use x=\"438.058594\" xlink:href=\"#DejaVuSans-97\"/>\n     <use x=\"499.337891\" xlink:href=\"#DejaVuSans-108\"/>\n     <use x=\"527.121094\" xlink:href=\"#DejaVuSans-121\"/>\n     <use x=\"586.300781\" xlink:href=\"#DejaVuSans-115\"/>\n     <use x=\"638.400391\" xlink:href=\"#DejaVuSans-105\"/>\n     <use x=\"666.183594\" xlink:href=\"#DejaVuSans-115\"/>\n    </g>\n   </g>\n   <g id=\"legend_1\">\n    <g id=\"patch_7\">\n     <path d=\"M 347.960938 44.99625 \nL 386.323438 44.99625 \nQ 388.323438 44.99625 388.323438 42.99625 \nL 388.323438 29.318125 \nQ 388.323438 27.318125 386.323438 27.318125 \nL 347.960938 27.318125 \nQ 345.960938 27.318125 345.960938 29.318125 \nL 345.960938 42.99625 \nQ 345.960938 44.99625 347.960938 44.99625 \nz\n\" style=\"fill:#ffffff;opacity:0.8;stroke:#cccccc;stroke-linejoin:miter;\"/>\n    </g>\n    <g id=\"line2d_16\">\n     <path d=\"M 349.960938 35.416562 \nL 369.960938 35.416562 \n\" style=\"fill:none;stroke:#6b2526;stroke-linecap:square;stroke-width:1.5;\"/>\n    </g>\n    <g id=\"line2d_17\"/>\n    <g id=\"text_18\">\n     <!-- 9 -->\n     <g transform=\"translate(377.960938 38.916562)scale(0.1 -0.1)\">\n      <defs>\n       <path d=\"M 10.984375 1.515625 \nL 10.984375 10.5 \nQ 14.703125 8.734375 18.5 7.8125 \nQ 22.3125 6.890625 25.984375 6.890625 \nQ 35.75 6.890625 40.890625 13.453125 \nQ 46.046875 20.015625 46.78125 33.40625 \nQ 43.953125 29.203125 39.59375 26.953125 \nQ 35.25 24.703125 29.984375 24.703125 \nQ 19.046875 24.703125 12.671875 31.3125 \nQ 6.296875 37.9375 6.296875 49.421875 \nQ 6.296875 60.640625 12.9375 67.421875 \nQ 19.578125 74.21875 30.609375 74.21875 \nQ 43.265625 74.21875 49.921875 64.515625 \nQ 56.59375 54.828125 56.59375 36.375 \nQ 56.59375 19.140625 48.40625 8.859375 \nQ 40.234375 -1.421875 26.421875 -1.421875 \nQ 22.703125 -1.421875 18.890625 -0.6875 \nQ 15.09375 0.046875 10.984375 1.515625 \nz\nM 30.609375 32.421875 \nQ 37.25 32.421875 41.125 36.953125 \nQ 45.015625 41.5 45.015625 49.421875 \nQ 45.015625 57.28125 41.125 61.84375 \nQ 37.25 66.40625 30.609375 66.40625 \nQ 23.96875 66.40625 20.09375 61.84375 \nQ 16.21875 57.28125 16.21875 49.421875 \nQ 16.21875 41.5 20.09375 36.953125 \nQ 23.96875 32.421875 30.609375 32.421875 \nz\n\" id=\"DejaVuSans-57\"/>\n      </defs>\n      <use xlink:href=\"#DejaVuSans-57\"/>\n     </g>\n    </g>\n   </g>\n  </g>\n </g>\n <defs>\n  <clipPath id=\"pb222c9531c\">\n   <rect height=\"217.44\" width=\"334.8\" x=\"58.523438\" y=\"22.318125\"/>\n  </clipPath>\n </defs>\n</svg>\n",
      "image/png": "[encoded data removed]"
     },
     "metadata": {
      "needs_background": "light"
     }
    }
   ],
   "source": [
    "# 画图\n",
    "time_from_to = [500,int(500+800/4)]\n",
    "# 4ms一次采样，放缩fuzzy倍\n",
    "fuzzy = 1\n",
    "# 观察哪些通道\n",
    "channels = [8]\n",
    "# channels = list(range(20))|\n",
    "\n",
    "np.random.seed(17)\n",
    "colors = np.random.rand(20,3,)\n",
    "plt.title('Wave Analysis')\n",
    "x = list(range(time_from_to[0],time_from_to[1], fuzzy))\n",
    "y = train_data[0][0].iloc[time_from_to[0]:time_from_to[1],:20]\n",
    "y = y.loc[x]\n",
    "for i in channels:\n",
    "    thisy = y.iloc[:,i]\n",
    "    # thisy /= np.var(thisy)\n",
    "    thisy /= np.mean(thisy)\n",
    "    thisy -= np.mean(thisy)\n",
    "    plt.plot(x, thisy, color=colors[i], label=str(i+1))\n",
    "plt.legend() # 显示图例\n",
    "\n",
    "plt.xlabel('T')\n",
    "plt.ylabel('A')\n",
    "plt.show()"
   ]
  },
  {
   "cell_type": "code",
   "execution_count": 17,
   "metadata": {
    "tags": []
   },
   "outputs": [
    {
     "output_type": "display_data",
     "data": {
      "text/plain": "<Figure size 432x288 with 1 Axes>",
      "image/svg+xml": "<?xml version=\"1.0\" encoding=\"utf-8\" standalone=\"no\"?>\n<!DOCTYPE svg PUBLIC \"-//W3C//DTD SVG 1.1//EN\"\n  \"http://www.w3.org/Graphics/SVG/1.1/DTD/svg11.dtd\">\n<!-- Created with matplotlib (https://matplotlib.org/) -->\n<svg height=\"248.518125pt\" version=\"1.1\" viewBox=\"0 0 381.347585 248.518125\" width=\"381.347585pt\" xmlns=\"http://www.w3.org/2000/svg\" xmlns:xlink=\"http://www.w3.org/1999/xlink\">\n <metadata>\n  <rdf:RDF xmlns:cc=\"http://creativecommons.org/ns#\" xmlns:dc=\"http://purl.org/dc/elements/1.1/\" xmlns:rdf=\"http://www.w3.org/1999/02/22-rdf-syntax-ns#\">\n   <cc:Work>\n    <dc:type rdf:resource=\"http://purl.org/dc/dcmitype/StillImage\"/>\n    <dc:date>2020-09-19T18:46:42.467340</dc:date>\n    <dc:format>image/svg+xml</dc:format>\n    <dc:creator>\n     <cc:Agent>\n      <dc:title>Matplotlib v3.3.2, https://matplotlib.org/</dc:title>\n     </cc:Agent>\n    </dc:creator>\n   </cc:Work>\n  </rdf:RDF>\n </metadata>\n <defs>\n  <style type=\"text/css\">*{stroke-linecap:butt;stroke-linejoin:round;}</style>\n </defs>\n <g id=\"figure_1\">\n  <g id=\"patch_1\">\n   <path d=\"M 0 248.518125 \nL 381.347585 248.518125 \nL 381.347585 0 \nL 0 0 \nz\n\" style=\"fill:none;\"/>\n  </g>\n  <g id=\"axes_1\">\n   <g id=\"patch_2\">\n    <path d=\"M 33.2875 224.64 \nL 368.0875 224.64 \nL 368.0875 7.2 \nL 33.2875 7.2 \nz\n\" style=\"fill:#ffffff;\"/>\n   </g>\n   <g id=\"matplotlib.axis_1\">\n    <g id=\"xtick_1\">\n     <g id=\"line2d_1\">\n      <defs>\n       <path d=\"M 0 0 \nL 0 3.5 \n\" id=\"m6f920004cf\" style=\"stroke:#000000;stroke-width:0.8;\"/>\n      </defs>\n      <g>\n       <use style=\"stroke:#000000;stroke-width:0.8;\" x=\"38.360227\" xlink:href=\"#m6f920004cf\" y=\"224.64\"/>\n      </g>\n     </g>\n     <g id=\"text_1\">\n      <!-- −0.20 -->\n      <g transform=\"translate(23.037571 239.238437)scale(0.1 -0.1)\">\n       <defs>\n        <path d=\"M 10.59375 35.5 \nL 73.1875 35.5 \nL 73.1875 27.203125 \nL 10.59375 27.203125 \nz\n\" id=\"DejaVuSans-8722\"/>\n        <path d=\"M 31.78125 66.40625 \nQ 24.171875 66.40625 20.328125 58.90625 \nQ 16.5 51.421875 16.5 36.375 \nQ 16.5 21.390625 20.328125 13.890625 \nQ 24.171875 6.390625 31.78125 6.390625 \nQ 39.453125 6.390625 43.28125 13.890625 \nQ 47.125 21.390625 47.125 36.375 \nQ 47.125 51.421875 43.28125 58.90625 \nQ 39.453125 66.40625 31.78125 66.40625 \nz\nM 31.78125 74.21875 \nQ 44.046875 74.21875 50.515625 64.515625 \nQ 56.984375 54.828125 56.984375 36.375 \nQ 56.984375 17.96875 50.515625 8.265625 \nQ 44.046875 -1.421875 31.78125 -1.421875 \nQ 19.53125 -1.421875 13.0625 8.265625 \nQ 6.59375 17.96875 6.59375 36.375 \nQ 6.59375 54.828125 13.0625 64.515625 \nQ 19.53125 74.21875 31.78125 74.21875 \nz\n\" id=\"DejaVuSans-48\"/>\n        <path d=\"M 10.6875 12.40625 \nL 21 12.40625 \nL 21 0 \nL 10.6875 0 \nz\n\" id=\"DejaVuSans-46\"/>\n        <path d=\"M 19.1875 8.296875 \nL 53.609375 8.296875 \nL 53.609375 0 \nL 7.328125 0 \nL 7.328125 8.296875 \nQ 12.9375 14.109375 22.625 23.890625 \nQ 32.328125 33.6875 34.8125 36.53125 \nQ 39.546875 41.84375 41.421875 45.53125 \nQ 43.3125 49.21875 43.3125 52.78125 \nQ 43.3125 58.59375 39.234375 62.25 \nQ 35.15625 65.921875 28.609375 65.921875 \nQ 23.96875 65.921875 18.8125 64.3125 \nQ 13.671875 62.703125 7.8125 59.421875 \nL 7.8125 69.390625 \nQ 13.765625 71.78125 18.9375 73 \nQ 24.125 74.21875 28.421875 74.21875 \nQ 39.75 74.21875 46.484375 68.546875 \nQ 53.21875 62.890625 53.21875 53.421875 \nQ 53.21875 48.921875 51.53125 44.890625 \nQ 49.859375 40.875 45.40625 35.40625 \nQ 44.1875 33.984375 37.640625 27.21875 \nQ 31.109375 20.453125 19.1875 8.296875 \nz\n\" id=\"DejaVuSans-50\"/>\n       </defs>\n       <use xlink:href=\"#DejaVuSans-8722\"/>\n       <use x=\"83.789062\" xlink:href=\"#DejaVuSans-48\"/>\n       <use x=\"147.412109\" xlink:href=\"#DejaVuSans-46\"/>\n       <use x=\"179.199219\" xlink:href=\"#DejaVuSans-50\"/>\n       <use x=\"242.822266\" xlink:href=\"#DejaVuSans-48\"/>\n      </g>\n     </g>\n    </g>\n    <g id=\"xtick_2\">\n     <g id=\"line2d_2\">\n      <g>\n       <use style=\"stroke:#000000;stroke-width:0.8;\" x=\"78.942045\" xlink:href=\"#m6f920004cf\" y=\"224.64\"/>\n      </g>\n     </g>\n     <g id=\"text_2\">\n      <!-- −0.15 -->\n      <g transform=\"translate(63.619389 239.238437)scale(0.1 -0.1)\">\n       <defs>\n        <path d=\"M 12.40625 8.296875 \nL 28.515625 8.296875 \nL 28.515625 63.921875 \nL 10.984375 60.40625 \nL 10.984375 69.390625 \nL 28.421875 72.90625 \nL 38.28125 72.90625 \nL 38.28125 8.296875 \nL 54.390625 8.296875 \nL 54.390625 0 \nL 12.40625 0 \nz\n\" id=\"DejaVuSans-49\"/>\n        <path d=\"M 10.796875 72.90625 \nL 49.515625 72.90625 \nL 49.515625 64.59375 \nL 19.828125 64.59375 \nL 19.828125 46.734375 \nQ 21.96875 47.46875 24.109375 47.828125 \nQ 26.265625 48.1875 28.421875 48.1875 \nQ 40.625 48.1875 47.75 41.5 \nQ 54.890625 34.8125 54.890625 23.390625 \nQ 54.890625 11.625 47.5625 5.09375 \nQ 40.234375 -1.421875 26.90625 -1.421875 \nQ 22.3125 -1.421875 17.546875 -0.640625 \nQ 12.796875 0.140625 7.71875 1.703125 \nL 7.71875 11.625 \nQ 12.109375 9.234375 16.796875 8.0625 \nQ 21.484375 6.890625 26.703125 6.890625 \nQ 35.15625 6.890625 40.078125 11.328125 \nQ 45.015625 15.765625 45.015625 23.390625 \nQ 45.015625 31 40.078125 35.4375 \nQ 35.15625 39.890625 26.703125 39.890625 \nQ 22.75 39.890625 18.8125 39.015625 \nQ 14.890625 38.140625 10.796875 36.28125 \nz\n\" id=\"DejaVuSans-53\"/>\n       </defs>\n       <use xlink:href=\"#DejaVuSans-8722\"/>\n       <use x=\"83.789062\" xlink:href=\"#DejaVuSans-48\"/>\n       <use x=\"147.412109\" xlink:href=\"#DejaVuSans-46\"/>\n       <use x=\"179.199219\" xlink:href=\"#DejaVuSans-49\"/>\n       <use x=\"242.822266\" xlink:href=\"#DejaVuSans-53\"/>\n      </g>\n     </g>\n    </g>\n    <g id=\"xtick_3\">\n     <g id=\"line2d_3\">\n      <g>\n       <use style=\"stroke:#000000;stroke-width:0.8;\" x=\"119.523864\" xlink:href=\"#m6f920004cf\" y=\"224.64\"/>\n      </g>\n     </g>\n     <g id=\"text_3\">\n      <!-- −0.10 -->\n      <g transform=\"translate(104.201207 239.238437)scale(0.1 -0.1)\">\n       <use xlink:href=\"#DejaVuSans-8722\"/>\n       <use x=\"83.789062\" xlink:href=\"#DejaVuSans-48\"/>\n       <use x=\"147.412109\" xlink:href=\"#DejaVuSans-46\"/>\n       <use x=\"179.199219\" xlink:href=\"#DejaVuSans-49\"/>\n       <use x=\"242.822266\" xlink:href=\"#DejaVuSans-48\"/>\n      </g>\n     </g>\n    </g>\n    <g id=\"xtick_4\">\n     <g id=\"line2d_4\">\n      <g>\n       <use style=\"stroke:#000000;stroke-width:0.8;\" x=\"160.105682\" xlink:href=\"#m6f920004cf\" y=\"224.64\"/>\n      </g>\n     </g>\n     <g id=\"text_4\">\n      <!-- −0.05 -->\n      <g transform=\"translate(144.783026 239.238437)scale(0.1 -0.1)\">\n       <use xlink:href=\"#DejaVuSans-8722\"/>\n       <use x=\"83.789062\" xlink:href=\"#DejaVuSans-48\"/>\n       <use x=\"147.412109\" xlink:href=\"#DejaVuSans-46\"/>\n       <use x=\"179.199219\" xlink:href=\"#DejaVuSans-48\"/>\n       <use x=\"242.822266\" xlink:href=\"#DejaVuSans-53\"/>\n      </g>\n     </g>\n    </g>\n    <g id=\"xtick_5\">\n     <g id=\"line2d_5\">\n      <g>\n       <use style=\"stroke:#000000;stroke-width:0.8;\" x=\"200.6875\" xlink:href=\"#m6f920004cf\" y=\"224.64\"/>\n      </g>\n     </g>\n     <g id=\"text_5\">\n      <!-- 0.00 -->\n      <g transform=\"translate(189.554688 239.238437)scale(0.1 -0.1)\">\n       <use xlink:href=\"#DejaVuSans-48\"/>\n       <use x=\"63.623047\" xlink:href=\"#DejaVuSans-46\"/>\n       <use x=\"95.410156\" xlink:href=\"#DejaVuSans-48\"/>\n       <use x=\"159.033203\" xlink:href=\"#DejaVuSans-48\"/>\n      </g>\n     </g>\n    </g>\n    <g id=\"xtick_6\">\n     <g id=\"line2d_6\">\n      <g>\n       <use style=\"stroke:#000000;stroke-width:0.8;\" x=\"241.269318\" xlink:href=\"#m6f920004cf\" y=\"224.64\"/>\n      </g>\n     </g>\n     <g id=\"text_6\">\n      <!-- 0.05 -->\n      <g transform=\"translate(230.136506 239.238437)scale(0.1 -0.1)\">\n       <use xlink:href=\"#DejaVuSans-48\"/>\n       <use x=\"63.623047\" xlink:href=\"#DejaVuSans-46\"/>\n       <use x=\"95.410156\" xlink:href=\"#DejaVuSans-48\"/>\n       <use x=\"159.033203\" xlink:href=\"#DejaVuSans-53\"/>\n      </g>\n     </g>\n    </g>\n    <g id=\"xtick_7\">\n     <g id=\"line2d_7\">\n      <g>\n       <use style=\"stroke:#000000;stroke-width:0.8;\" x=\"281.851136\" xlink:href=\"#m6f920004cf\" y=\"224.64\"/>\n      </g>\n     </g>\n     <g id=\"text_7\">\n      <!-- 0.10 -->\n      <g transform=\"translate(270.718324 239.238437)scale(0.1 -0.1)\">\n       <use xlink:href=\"#DejaVuSans-48\"/>\n       <use x=\"63.623047\" xlink:href=\"#DejaVuSans-46\"/>\n       <use x=\"95.410156\" xlink:href=\"#DejaVuSans-49\"/>\n       <use x=\"159.033203\" xlink:href=\"#DejaVuSans-48\"/>\n      </g>\n     </g>\n    </g>\n    <g id=\"xtick_8\">\n     <g id=\"line2d_8\">\n      <g>\n       <use style=\"stroke:#000000;stroke-width:0.8;\" x=\"322.432955\" xlink:href=\"#m6f920004cf\" y=\"224.64\"/>\n      </g>\n     </g>\n     <g id=\"text_8\">\n      <!-- 0.15 -->\n      <g transform=\"translate(311.300142 239.238437)scale(0.1 -0.1)\">\n       <use xlink:href=\"#DejaVuSans-48\"/>\n       <use x=\"63.623047\" xlink:href=\"#DejaVuSans-46\"/>\n       <use x=\"95.410156\" xlink:href=\"#DejaVuSans-49\"/>\n       <use x=\"159.033203\" xlink:href=\"#DejaVuSans-53\"/>\n      </g>\n     </g>\n    </g>\n    <g id=\"xtick_9\">\n     <g id=\"line2d_9\">\n      <g>\n       <use style=\"stroke:#000000;stroke-width:0.8;\" x=\"363.014773\" xlink:href=\"#m6f920004cf\" y=\"224.64\"/>\n      </g>\n     </g>\n     <g id=\"text_9\">\n      <!-- 0.20 -->\n      <g transform=\"translate(351.88196 239.238437)scale(0.1 -0.1)\">\n       <use xlink:href=\"#DejaVuSans-48\"/>\n       <use x=\"63.623047\" xlink:href=\"#DejaVuSans-46\"/>\n       <use x=\"95.410156\" xlink:href=\"#DejaVuSans-50\"/>\n       <use x=\"159.033203\" xlink:href=\"#DejaVuSans-48\"/>\n      </g>\n     </g>\n    </g>\n   </g>\n   <g id=\"matplotlib.axis_2\">\n    <g id=\"ytick_1\">\n     <g id=\"line2d_10\">\n      <defs>\n       <path d=\"M 0 0 \nL -3.5 0 \n\" id=\"m3852285a31\" style=\"stroke:#000000;stroke-width:0.8;\"/>\n      </defs>\n      <g>\n       <use style=\"stroke:#000000;stroke-width:0.8;\" x=\"33.2875\" xlink:href=\"#m3852285a31\" y=\"214.756364\"/>\n      </g>\n     </g>\n     <g id=\"text_10\">\n      <!-- 0 -->\n      <g transform=\"translate(19.925 218.555582)scale(0.1 -0.1)\">\n       <use xlink:href=\"#DejaVuSans-48\"/>\n      </g>\n     </g>\n    </g>\n    <g id=\"ytick_2\">\n     <g id=\"line2d_11\">\n      <g>\n       <use style=\"stroke:#000000;stroke-width:0.8;\" x=\"33.2875\" xlink:href=\"#m3852285a31\" y=\"167.975767\"/>\n      </g>\n     </g>\n     <g id=\"text_11\">\n      <!-- 50 -->\n      <g transform=\"translate(13.5625 171.774986)scale(0.1 -0.1)\">\n       <use xlink:href=\"#DejaVuSans-53\"/>\n       <use x=\"63.623047\" xlink:href=\"#DejaVuSans-48\"/>\n      </g>\n     </g>\n    </g>\n    <g id=\"ytick_3\">\n     <g id=\"line2d_12\">\n      <g>\n       <use style=\"stroke:#000000;stroke-width:0.8;\" x=\"33.2875\" xlink:href=\"#m3852285a31\" y=\"121.195171\"/>\n      </g>\n     </g>\n     <g id=\"text_12\">\n      <!-- 100 -->\n      <g transform=\"translate(7.2 124.99439)scale(0.1 -0.1)\">\n       <use xlink:href=\"#DejaVuSans-49\"/>\n       <use x=\"63.623047\" xlink:href=\"#DejaVuSans-48\"/>\n       <use x=\"127.246094\" xlink:href=\"#DejaVuSans-48\"/>\n      </g>\n     </g>\n    </g>\n    <g id=\"ytick_4\">\n     <g id=\"line2d_13\">\n      <g>\n       <use style=\"stroke:#000000;stroke-width:0.8;\" x=\"33.2875\" xlink:href=\"#m3852285a31\" y=\"74.414575\"/>\n      </g>\n     </g>\n     <g id=\"text_13\">\n      <!-- 150 -->\n      <g transform=\"translate(7.2 78.213794)scale(0.1 -0.1)\">\n       <use xlink:href=\"#DejaVuSans-49\"/>\n       <use x=\"63.623047\" xlink:href=\"#DejaVuSans-53\"/>\n       <use x=\"127.246094\" xlink:href=\"#DejaVuSans-48\"/>\n      </g>\n     </g>\n    </g>\n    <g id=\"ytick_5\">\n     <g id=\"line2d_14\">\n      <g>\n       <use style=\"stroke:#000000;stroke-width:0.8;\" x=\"33.2875\" xlink:href=\"#m3852285a31\" y=\"27.633979\"/>\n      </g>\n     </g>\n     <g id=\"text_14\">\n      <!-- 200 -->\n      <g transform=\"translate(7.2 31.433198)scale(0.1 -0.1)\">\n       <use xlink:href=\"#DejaVuSans-50\"/>\n       <use x=\"63.623047\" xlink:href=\"#DejaVuSans-48\"/>\n       <use x=\"127.246094\" xlink:href=\"#DejaVuSans-48\"/>\n      </g>\n     </g>\n    </g>\n   </g>\n   <g id=\"line2d_15\">\n    <path clip-path=\"url(#p8c194388a8)\" d=\"M 200.6875 214.756364 \nL 213.369318 145.828369 \nL 226.051136 64.313026 \nL 238.732955 17.083636 \nL 251.414773 138.803322 \nL 264.096591 161.215019 \nL 276.778409 174.256885 \nL 289.460227 161.134064 \nL 302.142045 194.768344 \nL 314.823864 191.057969 \nL 327.505682 207.095174 \nL 340.1875 202.936256 \nL 352.869318 206.340467 \nL 48.505682 206.340467 \nL 61.1875 202.936256 \nL 73.869318 207.095174 \nL 86.551136 191.057969 \nL 99.232955 194.768344 \nL 111.914773 161.134064 \nL 124.596591 174.256885 \nL 137.278409 161.215019 \nL 149.960227 138.803322 \nL 162.642045 17.083636 \nL 175.323864 64.313026 \nL 188.005682 145.828369 \n\" style=\"fill:none;stroke:#1f77b4;stroke-linecap:square;stroke-width:1.5;\"/>\n   </g>\n   <g id=\"patch_3\">\n    <path d=\"M 33.2875 224.64 \nL 33.2875 7.2 \n\" style=\"fill:none;stroke:#000000;stroke-linecap:square;stroke-linejoin:miter;stroke-width:0.8;\"/>\n   </g>\n   <g id=\"patch_4\">\n    <path d=\"M 368.0875 224.64 \nL 368.0875 7.2 \n\" style=\"fill:none;stroke:#000000;stroke-linecap:square;stroke-linejoin:miter;stroke-width:0.8;\"/>\n   </g>\n   <g id=\"patch_5\">\n    <path d=\"M 33.2875 224.64 \nL 368.0875 224.64 \n\" style=\"fill:none;stroke:#000000;stroke-linecap:square;stroke-linejoin:miter;stroke-width:0.8;\"/>\n   </g>\n   <g id=\"patch_6\">\n    <path d=\"M 33.2875 7.2 \nL 368.0875 7.2 \n\" style=\"fill:none;stroke:#000000;stroke-linecap:square;stroke-linejoin:miter;stroke-width:0.8;\"/>\n   </g>\n  </g>\n </g>\n <defs>\n  <clipPath id=\"p8c194388a8\">\n   <rect height=\"217.44\" width=\"334.8\" x=\"33.2875\" y=\"7.2\"/>\n  </clipPath>\n </defs>\n</svg>\n",
      "image/png": "[encoded data removed]"
     },
     "metadata": {
      "needs_background": "light"
     }
    }
   ],
   "source": [
    "n = 64\n",
    "sp=np.fft.fft(train_data[0][0].iloc[800:1000,0],n=n)\n",
    "sp[np.abs(sp)>3000]=0\n",
    "freq = np.fft.fftfreq(n)\n",
    "# plt.plot(freq, sp.real, freq, sp.imag)\n",
    "plt.plot(freq[np.nonzero(abs(freq)<0.2)], np.abs(sp[np.nonzero(abs(freq)<0.2)]))\n",
    "plt.show()\n",
    "# print(sp,freq)"
   ]
  },
  {
   "cell_type": "code",
   "execution_count": 136,
   "metadata": {
    "tags": []
   },
   "outputs": [
    {
     "output_type": "stream",
     "name": "stderr",
     "text": "100%|██████████| 12/12 [00:47<00:00,  3.93s/it]\n"
    }
   ],
   "source": [
    "# 特征工程\n",
    "import pywt\n",
    "\n",
    "from sklearn.decomposition import FastICA\n",
    "fast_ica = FastICA(n_components=20)\n",
    "\n",
    "n = 64\n",
    "\n",
    "'''\n",
    "A\t101\tB\t102\tC\t103\tD\t104\tE\t105\tF\t106\n",
    "G\t107\tH\t108\tI\t109\tJ\t110\tK\t111\tL\t112\n",
    "M\t113\tN\t114\tO\t115\tP\t116\tQ\t117\tR\t118\n",
    "S\t119\tT\t120\tU\t121\tV\t122\tW\t123\tX\t124\n",
    "Y\t125\tZ\t126\t1\t127\t2\t128\t3\t129\t4\t130\n",
    "5\t131\t6\t132\t7\t133\t8\t134\t9\t135\t0\t136\n",
    "'''\n",
    "map_char_id={\n",
    "    \"A\":101,\"B\":102,\"C\":103,\"D\":104,\"E\":105,\"F\":106,\n",
    "    \"G\":107,\"H\":108,\"I\":109,\"J\":110,\"K\":111,\"L\":112,\n",
    "    \"M\":113,\"N\":114,\"O\":115,\"P\":116,\"Q\":117,\"R\":118,\n",
    "    \"S\":119,\"T\":120,\"U\":121,\"V\":122,\"W\":123,\"X\":124,\n",
    "    \"Y\":125,\"Z\":126,\"1\":127,\"2\":128,\"3\":129,\"4\":130,\n",
    "    \"5\":131,\"6\":132,\"7\":133,\"8\":134,\"9\":135,\"0\":136,\n",
    "}\n",
    "map_id_char={}\n",
    "for char,id in map_char_id.items():\n",
    "    map_id_char[id]=char\n",
    "exists_xy_char=[\"\",\"ABCDEF\",\"GHIJKL\",\"MNOPQR\",\"STUVWX\",\"YZ1234\",\"567890\",\"AGMSY5\",\"BHNTZ6\",\"CIOU17\",\"DJPV28\",\"EKQW39\",\"FLRX40\"]\n",
    "for i,v in enumerate(exists_xy_char):\n",
    "    m = set()\n",
    "    for c in v:\n",
    "        m.add(c)\n",
    "    exists_xy_char[i]=m\n",
    "\n",
    "\n",
    "def WPEnergy(data, fs, wavelet, maxlevel=6):\n",
    "    iter_freqs = [\n",
    "        {'name': 'Delta', 'fmin': 0.5, 'fmax': 4},\n",
    "        {'name': 'Theta', 'fmin': 4, 'fmax': 8},\n",
    "        {'name': 'Alpha', 'fmin': 8, 'fmax': 13},\n",
    "        {'name': 'Beta', 'fmin': 13, 'fmax': 35},\n",
    "    ]\n",
    "    # 小波包分解\n",
    "    wp = pywt.WaveletPacket(data=data, wavelet=wavelet, mode='symmetric', maxlevel=maxlevel)\n",
    "    # 频谱由低到高的对应关系，这里需要注意小波变换的频带排列默认并不是顺序排列，所以这里需要使用’freq‘排序。\n",
    "    freqTree = [node.path for node in wp.get_level(maxlevel, 'freq')]\n",
    "    # 计算maxlevel最小频段的带宽\n",
    "    freqBand = fs / (2 ** maxlevel)\n",
    "    # 定义能量数组\n",
    "    energy = []\n",
    "    # 循环遍历计算四个频段对应的能量\n",
    "    for iter in range(len(iter_freqs)):\n",
    "        iterEnergy = 0.0\n",
    "        for i in range(len(freqTree)):\n",
    "            # 第i个频段的最小频率\n",
    "            bandMin = i * freqBand\n",
    "            # 第i个频段的最大频率\n",
    "            bandMax = bandMin + freqBand\n",
    "            # 判断第i个频段是否在要分析的范围内\n",
    "            if (iter_freqs[iter]['fmin'] <= bandMin and iter_freqs[iter]['fmax'] >= bandMax):\n",
    "                val = pow(np.linalg.norm(wp[freqTree[i]].data, ord=None), 2)\n",
    "                if val<100000:\n",
    "                    # 计算对应频段的累加和\n",
    "                    iterEnergy += val\n",
    "        # 保存四个频段对应的能量和\n",
    "        energy.append(iterEnergy)\n",
    "    # 绘制能量分布图\n",
    "    # plt.plot([xLabel['name'] for xLabel in iter_freqs], energy, lw=0, marker='o')\n",
    "    # plt.title('能量分布')\n",
    "    # plt.show()\n",
    "    return energy\n",
    "\n",
    "def normalization(data):\n",
    "    _range = np.max(data) - np.min(data)\n",
    "    return (data - np.min(data)) / _range\n",
    "\n",
    "def standardization(data):\n",
    "    mu = np.mean(data, axis=0)\n",
    "    sigma = np.std(data, axis=0)\n",
    "    return (data - mu) / sigma\n",
    "\n",
    "def maxpool(data,n,step):\n",
    "    data2 = []\n",
    "    for i in range(n//2,len(data)-(-n//2+n),step):\n",
    "        data2.append(max(data[i-n//2:i-n//2+n]))\n",
    "    return data2\n",
    "\n",
    "def get_data():\n",
    "    features = []\n",
    "    tags = []\n",
    "    # FIXME:\n",
    "    # for i_person in range(5):\n",
    "    for i_person in range(1):\n",
    "        for i_char_sheet in tqdm(range(len(CHAR_SHEET_TRAIN))):\n",
    "            char_id=train_event[i_person][i_char_sheet].iloc[0,0]\n",
    "            char=map_id_char[char_id]\n",
    "            begin_time=train_event[i_person][i_char_sheet].iloc[0,1]\n",
    "            data = np.array(train_data[i_person][i_char_sheet])\n",
    "            # print(data[0,3]==train_data[i_person][i_char_sheet].iloc[0,3])\n",
    "            # data -= np.mean(data,axis=1,keepdims=True)\n",
    "            # data2 = fast_ica.fit_transform(data)\n",
    "            for i_row in range(1,len(train_event[i_person][i_char_sheet]),13):\n",
    "                data_group = train_event[i_person][i_char_sheet].iloc[i_row:i_row+12]\n",
    "                # print(data_group,i_row)\n",
    "                for i in range(12):\n",
    "                    sp = []\n",
    "                    sp1 = []\n",
    "                    # sp1 = np.concatenate([WPEnergy(data[int(data_group.iloc[i,1]) : int(data_group.iloc[i,1])+100,j],fs=125, wavelet='db4', maxlevel=6) for j in range(20)])\n",
    "                    for j in range(20):\n",
    "                        paras=[0,60,120]\n",
    "                        chan = []\n",
    "                        for p in range(len(paras)-1):\n",
    "                            t = WPEnergy(standardization(data[int(data_group.iloc[i,1])+paras[p] : int(data_group.iloc[i,1])+paras[p+1],j]),fs=125, wavelet='db4', maxlevel=6)\n",
    "                            chan.append(t)\n",
    "                        # chan.append(np.sum(np.asarray([normalization(c) for c in chan[:len(paras)-1]]),axis=0))\n",
    "                        chan.append(np.sum(np.asarray(chan[:len(paras)-1]),axis=0))\n",
    "                        chan = [normalization(c) for c in chan]\n",
    "                        sp1.append(chan)\n",
    "                    sp1 = np.mean(np.array(sp1),axis=0)\n",
    "                    sp1 = np.concatenate(sp1)\n",
    "                    # sp1 = np.concatenate([Data[j][int(data_group.iloc[i,1]/trans_coef):int((data_group.iloc[i,1]+100)/trans_coef)] for j in range(20)])\n",
    "                    sp2 = []\n",
    "                    sp3 = []\n",
    "                    fourier = []\n",
    "                    for j in range(20):\n",
    "                        d = standardization(data[int(data_group.iloc[i,1]): int(data_group.iloc[i,1])+120,j])\n",
    "                        # 三次haar小波变换，相当于低通滤波，降噪\n",
    "                        d, _ = pywt.dwt(d, 'haar')\n",
    "                        d, _ = pywt.dwt(d, 'haar')\n",
    "                        d, _ = pywt.dwt(d, 'haar')\n",
    "                        # d = maxpool(d,3,1)\n",
    "                        sp2.append(d)\n",
    "                        # sp3.append(np.abs(np.fft.fft(d,n=n)))\n",
    "                    # sp2 = np.concatenate(sp2)\n",
    "                    sp2 = np.mean(sp2,axis=0)\n",
    "                    # sp3 = np.concatenate(sp3)\n",
    "                    fourier=np.concatenate([np.abs(np.fft.fft(\n",
    "                            data[int(data_group.iloc[i,1]):int(data_group.iloc[i,1])+120,j],n=n\n",
    "                        )) for j in range(20)])\n",
    "                    fourier[np.abs(fourier)>5000]=0\n",
    "                    # fourier[fourier<-5000]=-5000\n",
    "                    # fourier[fourier>5000]=5000\n",
    "                    fourier=fourier[np.nonzero(abs(freq)<0.2)]\n",
    "                    sp = np.concatenate([sp, fourier, sp1, sp2])\n",
    "                    features.append(sp)\n",
    "                    tags.append(int(char in exists_xy_char[int(data_group.iloc[i,0])]))\n",
    "                # return\n",
    "    return np.asarray(features),np.asarray(tags)\n",
    "features, tags = get_data()\n",
    "# res = WPEnergy2(train_data[0][0].iloc[100:200,0],fs=125, wavelet='db4', maxlevel=8)\n",
    "# train_data,res\n",
    "# np.asarray(pywt.dwt(train_data[0][0].iloc[100:200,0], 'haar')).shape\n",
    "\n"
   ]
  },
  {
   "cell_type": "code",
   "execution_count": 138,
   "metadata": {},
   "outputs": [
    {
     "output_type": "execute_result",
     "data": {
      "text/plain": "(720, 52)"
     },
     "metadata": {},
     "execution_count": 138
    }
   ],
   "source": [
    "# tags\n",
    "features.shape"
   ]
  },
  {
   "cell_type": "code",
   "execution_count": 139,
   "metadata": {
    "tags": []
   },
   "outputs": [
    {
     "output_type": "stream",
     "name": "stdout",
     "text": "|   iter    |  target   | colsam... | learni... | max_de... | max_depth | min_ch... | n_esti... | reg_alpha | reg_la... | subsample |\n-------------------------------------------------------------------------------------------------------------------------------------\n| \u001b[0m 1       \u001b[0m | \u001b[0m 0.6849  \u001b[0m | \u001b[0m 0.8006  \u001b[0m | \u001b[0m 0.0253  \u001b[0m | \u001b[0m 3.458   \u001b[0m | \u001b[0m 14.0    \u001b[0m | \u001b[0m 38.0    \u001b[0m | \u001b[0m 26.51   \u001b[0m | \u001b[0m 0.6128  \u001b[0m | \u001b[0m 0.2957  \u001b[0m | \u001b[0m 0.8493  \u001b[0m |\n| \u001b[0m 2       \u001b[0m | \u001b[0m 0.6689  \u001b[0m | \u001b[0m 0.649   \u001b[0m | \u001b[0m 0.08347 \u001b[0m | \u001b[0m 2.79    \u001b[0m | \u001b[0m 16.68   \u001b[0m | \u001b[0m 30.72   \u001b[0m | \u001b[0m 25.33   \u001b[0m | \u001b[0m 0.8482  \u001b[0m | \u001b[0m 0.9527  \u001b[0m | \u001b[0m 0.9477  \u001b[0m |\n| \u001b[95m 3       \u001b[0m | \u001b[95m 0.6935  \u001b[0m | \u001b[95m 0.5614  \u001b[0m | \u001b[95m 0.09532 \u001b[0m | \u001b[95m 2.872   \u001b[0m | \u001b[95m 9.401   \u001b[0m | \u001b[95m 43.64   \u001b[0m | \u001b[95m 52.68   \u001b[0m | \u001b[95m 0.6112  \u001b[0m | \u001b[95m 0.8891  \u001b[0m | \u001b[95m 0.7299  \u001b[0m |\n| \u001b[0m 4       \u001b[0m | \u001b[0m 0.6817  \u001b[0m | \u001b[0m 0.5775  \u001b[0m | \u001b[0m 0.07489 \u001b[0m | \u001b[0m 2.662   \u001b[0m | \u001b[0m 5.645   \u001b[0m | \u001b[0m 38.33   \u001b[0m | \u001b[0m 60.86   \u001b[0m | \u001b[0m 0.4588  \u001b[0m | \u001b[0m 0.494   \u001b[0m | \u001b[0m 0.7048  \u001b[0m |\n| \u001b[0m 5       \u001b[0m | \u001b[0m 0.6516  \u001b[0m | \u001b[0m 0.6024  \u001b[0m | \u001b[0m 0.1109  \u001b[0m | \u001b[0m 2.059   \u001b[0m | \u001b[0m 20.33   \u001b[0m | \u001b[0m 17.21   \u001b[0m | \u001b[0m 24.33   \u001b[0m | \u001b[0m 0.4771  \u001b[0m | \u001b[0m 0.3006  \u001b[0m | \u001b[0m 0.7918  \u001b[0m |\n| \u001b[95m 6       \u001b[0m | \u001b[95m 0.7019  \u001b[0m | \u001b[95m 0.8567  \u001b[0m | \u001b[95m 0.07749 \u001b[0m | \u001b[95m 4.778   \u001b[0m | \u001b[95m 4.492   \u001b[0m | \u001b[95m 38.75   \u001b[0m | \u001b[95m 14.02   \u001b[0m | \u001b[95m 0.8423  \u001b[0m | \u001b[95m 0.9807  \u001b[0m | \u001b[95m 0.6483  \u001b[0m |\n| \u001b[0m 7       \u001b[0m | \u001b[0m 0.628   \u001b[0m | \u001b[0m 0.8385  \u001b[0m | \u001b[0m 0.109   \u001b[0m | \u001b[0m 2.072   \u001b[0m | \u001b[0m 4.046   \u001b[0m | \u001b[0m 21.11   \u001b[0m | \u001b[0m 73.33   \u001b[0m | \u001b[0m 0.2389  \u001b[0m | \u001b[0m 0.7281  \u001b[0m | \u001b[0m 0.782   \u001b[0m |\n| \u001b[95m 8       \u001b[0m | \u001b[95m 0.7093  \u001b[0m | \u001b[95m 0.5616  \u001b[0m | \u001b[95m 0.09085 \u001b[0m | \u001b[95m 3.338   \u001b[0m | \u001b[95m 13.97   \u001b[0m | \u001b[95m 38.02   \u001b[0m | \u001b[95m 26.13   \u001b[0m | \u001b[95m 0.5305  \u001b[0m | \u001b[95m 0.4711  \u001b[0m | \u001b[95m 0.6193  \u001b[0m |\n| \u001b[0m 9       \u001b[0m | \u001b[0m 0.6772  \u001b[0m | \u001b[0m 0.5562  \u001b[0m | \u001b[0m 0.02704 \u001b[0m | \u001b[0m 4.45    \u001b[0m | \u001b[0m 4.747   \u001b[0m | \u001b[0m 38.58   \u001b[0m | \u001b[0m 13.69   \u001b[0m | \u001b[0m 0.3688  \u001b[0m | \u001b[0m 0.4338  \u001b[0m | \u001b[0m 0.8063  \u001b[0m |\n| \u001b[0m 10      \u001b[0m | \u001b[0m 0.677   \u001b[0m | \u001b[0m 0.6858  \u001b[0m | \u001b[0m 0.1268  \u001b[0m | \u001b[0m 3.062   \u001b[0m | \u001b[0m 13.37   \u001b[0m | \u001b[0m 38.03   \u001b[0m | \u001b[0m 25.93   \u001b[0m | \u001b[0m 0.7877  \u001b[0m | \u001b[0m 0.4718  \u001b[0m | \u001b[0m 0.8076  \u001b[0m |\n| \u001b[0m 11      \u001b[0m | \u001b[0m 0.6989  \u001b[0m | \u001b[0m 0.8074  \u001b[0m | \u001b[0m 0.07439 \u001b[0m | \u001b[0m 2.936   \u001b[0m | \u001b[0m 23.22   \u001b[0m | \u001b[0m 49.69   \u001b[0m | \u001b[0m 42.53   \u001b[0m | \u001b[0m 0.8414  \u001b[0m | \u001b[0m 0.44    \u001b[0m | \u001b[0m 0.7353  \u001b[0m |\n| \u001b[0m 12      \u001b[0m | \u001b[0m 0.6859  \u001b[0m | \u001b[0m 0.505   \u001b[0m | \u001b[0m 0.1284  \u001b[0m | \u001b[0m 2.009   \u001b[0m | \u001b[0m 13.6    \u001b[0m | \u001b[0m 37.68   \u001b[0m | \u001b[0m 26.44   \u001b[0m | \u001b[0m 0.1976  \u001b[0m | \u001b[0m 0.6549  \u001b[0m | \u001b[0m 0.676   \u001b[0m |\n| \u001b[0m 13      \u001b[0m | \u001b[0m 0.6143  \u001b[0m | \u001b[0m 0.6992  \u001b[0m | \u001b[0m 0.1047  \u001b[0m | \u001b[0m 3.231   \u001b[0m | \u001b[0m 5.541   \u001b[0m | \u001b[0m 20.58   \u001b[0m | \u001b[0m 43.97   \u001b[0m | \u001b[0m 0.7081  \u001b[0m | \u001b[0m 0.9156  \u001b[0m | \u001b[0m 0.6757  \u001b[0m |\n| \u001b[0m 14      \u001b[0m | \u001b[0m 0.6669  \u001b[0m | \u001b[0m 0.6948  \u001b[0m | \u001b[0m 0.08341 \u001b[0m | \u001b[0m 4.567   \u001b[0m | \u001b[0m 4.163   \u001b[0m | \u001b[0m 39.64   \u001b[0m | \u001b[0m 14.58   \u001b[0m | \u001b[0m 0.421   \u001b[0m | \u001b[0m 0.4354  \u001b[0m | \u001b[0m 0.9427  \u001b[0m |\n| \u001b[0m 15      \u001b[0m | \u001b[0m 0.6686  \u001b[0m | \u001b[0m 0.7473  \u001b[0m | \u001b[0m 0.1361  \u001b[0m | \u001b[0m 3.48    \u001b[0m | \u001b[0m 23.47   \u001b[0m | \u001b[0m 49.82   \u001b[0m | \u001b[0m 41.7    \u001b[0m | \u001b[0m 0.4956  \u001b[0m | \u001b[0m 0.2739  \u001b[0m | \u001b[0m 0.9366  \u001b[0m |\n| \u001b[0m 16      \u001b[0m | \u001b[0m 0.6905  \u001b[0m | \u001b[0m 0.5162  \u001b[0m | \u001b[0m 0.06371 \u001b[0m | \u001b[0m 2.266   \u001b[0m | \u001b[0m 14.01   \u001b[0m | \u001b[0m 38.03   \u001b[0m | \u001b[0m 26.4    \u001b[0m | \u001b[0m 0.649   \u001b[0m | \u001b[0m 0.3993  \u001b[0m | \u001b[0m 0.7007  \u001b[0m |\n| \u001b[0m 17      \u001b[0m | \u001b[0m 0.6923  \u001b[0m | \u001b[0m 0.5032  \u001b[0m | \u001b[0m 0.03179 \u001b[0m | \u001b[0m 2.803   \u001b[0m | \u001b[0m 13.84   \u001b[0m | \u001b[0m 37.82   \u001b[0m | \u001b[0m 24.94   \u001b[0m | \u001b[0m 0.8314  \u001b[0m | \u001b[0m 0.265   \u001b[0m | \u001b[0m 0.6527  \u001b[0m |\n| \u001b[0m 18      \u001b[0m | \u001b[0m 0.6774  \u001b[0m | \u001b[0m 0.6561  \u001b[0m | \u001b[0m 0.03062 \u001b[0m | \u001b[0m 2.515   \u001b[0m | \u001b[0m 14.74   \u001b[0m | \u001b[0m 38.11   \u001b[0m | \u001b[0m 24.56   \u001b[0m | \u001b[0m 0.9826  \u001b[0m | \u001b[0m 0.9344  \u001b[0m | \u001b[0m 0.8751  \u001b[0m |\n| \u001b[0m 19      \u001b[0m | \u001b[0m 0.673   \u001b[0m | \u001b[0m 0.7104  \u001b[0m | \u001b[0m 0.1173  \u001b[0m | \u001b[0m 2.848   \u001b[0m | \u001b[0m 23.54   \u001b[0m | \u001b[0m 49.24   \u001b[0m | \u001b[0m 42.79   \u001b[0m | \u001b[0m 0.8945  \u001b[0m | \u001b[0m 0.4266  \u001b[0m | \u001b[0m 0.9229  \u001b[0m |\n| \u001b[0m 20      \u001b[0m | \u001b[0m 0.6806  \u001b[0m | \u001b[0m 0.7091  \u001b[0m | \u001b[0m 0.05648 \u001b[0m | \u001b[0m 2.173   \u001b[0m | \u001b[0m 4.465   \u001b[0m | \u001b[0m 25.32   \u001b[0m | \u001b[0m 28.39   \u001b[0m | \u001b[0m 0.0817  \u001b[0m | \u001b[0m 0.9945  \u001b[0m | \u001b[0m 0.6079  \u001b[0m |\n| \u001b[0m 21      \u001b[0m | \u001b[0m 0.6664  \u001b[0m | \u001b[0m 0.8666  \u001b[0m | \u001b[0m 0.09872 \u001b[0m | \u001b[0m 3.35    \u001b[0m | \u001b[0m 8.95    \u001b[0m | \u001b[0m 43.2    \u001b[0m | \u001b[0m 52.46   \u001b[0m | \u001b[0m 0.5136  \u001b[0m | \u001b[0m 0.3985  \u001b[0m | \u001b[0m 0.7783  \u001b[0m |\n| \u001b[0m 22      \u001b[0m | \u001b[0m 0.692   \u001b[0m | \u001b[0m 0.6601  \u001b[0m | \u001b[0m 0.1486  \u001b[0m | \u001b[0m 3.162   \u001b[0m | \u001b[0m 14.09   \u001b[0m | \u001b[0m 37.62   \u001b[0m | \u001b[0m 25.31   \u001b[0m | \u001b[0m 0.4974  \u001b[0m | \u001b[0m 0.9678  \u001b[0m | \u001b[0m 0.7052  \u001b[0m |\n| \u001b[0m 23      \u001b[0m | \u001b[0m 0.6946  \u001b[0m | \u001b[0m 0.5728  \u001b[0m | \u001b[0m 0.01265 \u001b[0m | \u001b[0m 2.108   \u001b[0m | \u001b[0m 9.44    \u001b[0m | \u001b[0m 44.1    \u001b[0m | \u001b[0m 52.1    \u001b[0m | \u001b[0m 0.2807  \u001b[0m | \u001b[0m 0.8728  \u001b[0m | \u001b[0m 0.6437  \u001b[0m |\n| \u001b[0m 24      \u001b[0m | \u001b[0m 0.6393  \u001b[0m | \u001b[0m 0.6255  \u001b[0m | \u001b[0m 0.1446  \u001b[0m | \u001b[0m 3.282   \u001b[0m | \u001b[0m 23.43   \u001b[0m | \u001b[0m 21.06   \u001b[0m | \u001b[0m 39.87   \u001b[0m | \u001b[0m 0.9427  \u001b[0m | \u001b[0m 0.8627  \u001b[0m | \u001b[0m 0.8539  \u001b[0m |\n| \u001b[0m 25      \u001b[0m | \u001b[0m 0.6855  \u001b[0m | \u001b[0m 0.6433  \u001b[0m | \u001b[0m 0.01729 \u001b[0m | \u001b[0m 2.785   \u001b[0m | \u001b[0m 14.45   \u001b[0m | \u001b[0m 38.39   \u001b[0m | \u001b[0m 25.14   \u001b[0m | \u001b[0m 0.7128  \u001b[0m | \u001b[0m 0.2858  \u001b[0m | \u001b[0m 0.6612  \u001b[0m |\n| \u001b[0m 26      \u001b[0m | \u001b[0m 0.6835  \u001b[0m | \u001b[0m 0.6889  \u001b[0m | \u001b[0m 0.146   \u001b[0m | \u001b[0m 3.788   \u001b[0m | \u001b[0m 15.14   \u001b[0m | \u001b[0m 36.65   \u001b[0m | \u001b[0m 26.31   \u001b[0m | \u001b[0m 0.7173  \u001b[0m | \u001b[0m 0.9403  \u001b[0m | \u001b[0m 0.7209  \u001b[0m |\n| \u001b[0m 27      \u001b[0m | \u001b[0m 0.6744  \u001b[0m | \u001b[0m 0.6179  \u001b[0m | \u001b[0m 0.1367  \u001b[0m | \u001b[0m 3.077   \u001b[0m | \u001b[0m 9.591   \u001b[0m | \u001b[0m 44.29   \u001b[0m | \u001b[0m 53.79   \u001b[0m | \u001b[0m 0.5927  \u001b[0m | \u001b[0m 0.6155  \u001b[0m | \u001b[0m 0.8781  \u001b[0m |\n| \u001b[0m 28      \u001b[0m | \u001b[0m 0.6894  \u001b[0m | \u001b[0m 0.5369  \u001b[0m | \u001b[0m 0.06953 \u001b[0m | \u001b[0m 4.441   \u001b[0m | \u001b[0m 4.121   \u001b[0m | \u001b[0m 38.22   \u001b[0m | \u001b[0m 14.41   \u001b[0m | \u001b[0m 0.9612  \u001b[0m | \u001b[0m 0.5806  \u001b[0m | \u001b[0m 0.604   \u001b[0m |\n| \u001b[0m 29      \u001b[0m | \u001b[0m 0.6979  \u001b[0m | \u001b[0m 0.5605  \u001b[0m | \u001b[0m 0.05245 \u001b[0m | \u001b[0m 2.926   \u001b[0m | \u001b[0m 9.92    \u001b[0m | \u001b[0m 44.77   \u001b[0m | \u001b[0m 51.96   \u001b[0m | \u001b[0m 0.9984  \u001b[0m | \u001b[0m 0.3125  \u001b[0m | \u001b[0m 0.7536  \u001b[0m |\n| \u001b[0m 30      \u001b[0m | \u001b[0m 0.6658  \u001b[0m | \u001b[0m 0.7361  \u001b[0m | \u001b[0m 0.1071  \u001b[0m | \u001b[0m 2.549   \u001b[0m | \u001b[0m 9.281   \u001b[0m | \u001b[0m 44.94   \u001b[0m | \u001b[0m 52.64   \u001b[0m | \u001b[0m 0.8155  \u001b[0m | \u001b[0m 0.2643  \u001b[0m | \u001b[0m 0.6756  \u001b[0m |\n| \u001b[0m 31      \u001b[0m | \u001b[0m 0.6285  \u001b[0m | \u001b[0m 0.7882  \u001b[0m | \u001b[0m 0.1482  \u001b[0m | \u001b[0m 4.811   \u001b[0m | \u001b[0m 15.13   \u001b[0m | \u001b[0m 22.74   \u001b[0m | \u001b[0m 64.68   \u001b[0m | \u001b[0m 0.8353  \u001b[0m | \u001b[0m 0.4117  \u001b[0m | \u001b[0m 0.7226  \u001b[0m |\n| \u001b[0m 32      \u001b[0m | \u001b[0m 0.691   \u001b[0m | \u001b[0m 0.5535  \u001b[0m | \u001b[0m 0.04273 \u001b[0m | \u001b[0m 2.794   \u001b[0m | \u001b[0m 13.94   \u001b[0m | \u001b[0m 36.56   \u001b[0m | \u001b[0m 26.17   \u001b[0m | \u001b[0m 0.2479  \u001b[0m | \u001b[0m 0.8875  \u001b[0m | \u001b[0m 0.8013  \u001b[0m |\n| \u001b[0m 33      \u001b[0m | \u001b[0m 0.6766  \u001b[0m | \u001b[0m 0.5     \u001b[0m | \u001b[0m 0.15    \u001b[0m | \u001b[0m 3.139   \u001b[0m | \u001b[0m 14.35   \u001b[0m | \u001b[0m 37.7    \u001b[0m | \u001b[0m 25.97   \u001b[0m | \u001b[0m 0.0     \u001b[0m | \u001b[0m 0.3483  \u001b[0m | \u001b[0m 0.6     \u001b[0m |\n| \u001b[0m 34      \u001b[0m | \u001b[0m 0.6778  \u001b[0m | \u001b[0m 0.5089  \u001b[0m | \u001b[0m 0.02687 \u001b[0m | \u001b[0m 4.761   \u001b[0m | \u001b[0m 9.234   \u001b[0m | \u001b[0m 49.36   \u001b[0m | \u001b[0m 72.05   \u001b[0m | \u001b[0m 0.3187  \u001b[0m | \u001b[0m 0.3214  \u001b[0m | \u001b[0m 0.871   \u001b[0m |\n| \u001b[0m 35      \u001b[0m | \u001b[0m 0.6957  \u001b[0m | \u001b[0m 0.5     \u001b[0m | \u001b[0m 0.01    \u001b[0m | \u001b[0m 3.252   \u001b[0m | \u001b[0m 14.27   \u001b[0m | \u001b[0m 38.08   \u001b[0m | \u001b[0m 26.0    \u001b[0m | \u001b[0m 0.8456  \u001b[0m | \u001b[0m 0.8318  \u001b[0m | \u001b[0m 0.6     \u001b[0m |\n| \u001b[0m 36      \u001b[0m | \u001b[0m 0.7035  \u001b[0m | \u001b[0m 0.5572  \u001b[0m | \u001b[0m 0.03836 \u001b[0m | \u001b[0m 2.761   \u001b[0m | \u001b[0m 14.66   \u001b[0m | \u001b[0m 38.39   \u001b[0m | \u001b[0m 25.56   \u001b[0m | \u001b[0m 0.6436  \u001b[0m | \u001b[0m 0.594   \u001b[0m | \u001b[0m 0.6631  \u001b[0m |\n| \u001b[0m 37      \u001b[0m | \u001b[0m 0.6956  \u001b[0m | \u001b[0m 0.666   \u001b[0m | \u001b[0m 0.0873  \u001b[0m | \u001b[0m 4.672   \u001b[0m | \u001b[0m 4.645   \u001b[0m | \u001b[0m 37.86   \u001b[0m | \u001b[0m 24.84   \u001b[0m | \u001b[0m 0.6944  \u001b[0m | \u001b[0m 0.38    \u001b[0m | \u001b[0m 0.6511  \u001b[0m |\n| \u001b[0m 38      \u001b[0m | \u001b[0m 0.6569  \u001b[0m | \u001b[0m 0.5376  \u001b[0m | \u001b[0m 0.1158  \u001b[0m | \u001b[0m 4.004   \u001b[0m | \u001b[0m 6.126   \u001b[0m | \u001b[0m 31.42   \u001b[0m | \u001b[0m 32.78   \u001b[0m | \u001b[0m 0.4292  \u001b[0m | \u001b[0m 0.3025  \u001b[0m | \u001b[0m 0.8268  \u001b[0m |\n| \u001b[0m 39      \u001b[0m | \u001b[0m 0.6404  \u001b[0m | \u001b[0m 0.5328  \u001b[0m | \u001b[0m 0.02384 \u001b[0m | \u001b[0m 2.834   \u001b[0m | \u001b[0m 18.26   \u001b[0m | \u001b[0m 15.19   \u001b[0m | \u001b[0m 53.98   \u001b[0m | \u001b[0m 0.4018  \u001b[0m | \u001b[0m 0.5174  \u001b[0m | \u001b[0m 0.9378  \u001b[0m |\n| \u001b[0m 40      \u001b[0m | \u001b[0m 0.6878  \u001b[0m | \u001b[0m 0.7829  \u001b[0m | \u001b[0m 0.08163 \u001b[0m | \u001b[0m 2.246   \u001b[0m | \u001b[0m 13.96   \u001b[0m | \u001b[0m 38.12   \u001b[0m | \u001b[0m 25.3    \u001b[0m | \u001b[0m 0.6166  \u001b[0m | \u001b[0m 0.7314  \u001b[0m | \u001b[0m 0.6821  \u001b[0m |\n| \u001b[0m 41      \u001b[0m | \u001b[0m 0.677   \u001b[0m | \u001b[0m 0.5381  \u001b[0m | \u001b[0m 0.1141  \u001b[0m | \u001b[0m 2.905   \u001b[0m | \u001b[0m 17.35   \u001b[0m | \u001b[0m 49.72   \u001b[0m | \u001b[0m 47.29   \u001b[0m | \u001b[0m 0.5569  \u001b[0m | \u001b[0m 0.7649  \u001b[0m | \u001b[0m 0.7245  \u001b[0m |\n| \u001b[0m 42      \u001b[0m | \u001b[0m 0.6762  \u001b[0m | \u001b[0m 0.6768  \u001b[0m | \u001b[0m 0.03613 \u001b[0m | \u001b[0m 2.87    \u001b[0m | \u001b[0m 10.08   \u001b[0m | \u001b[0m 44.76   \u001b[0m | \u001b[0m 52.64   \u001b[0m | \u001b[0m 0.3547  \u001b[0m | \u001b[0m 0.7013  \u001b[0m | \u001b[0m 0.6138  \u001b[0m |\n| \u001b[0m 43      \u001b[0m | \u001b[0m 0.6996  \u001b[0m | \u001b[0m 0.5178  \u001b[0m | \u001b[0m 0.08281 \u001b[0m | \u001b[0m 3.635   \u001b[0m | \u001b[0m 15.25   \u001b[0m | \u001b[0m 38.28   \u001b[0m | \u001b[0m 25.87   \u001b[0m | \u001b[0m 0.993   \u001b[0m | \u001b[0m 0.2547  \u001b[0m | \u001b[0m 0.68    \u001b[0m |\n| \u001b[0m 44      \u001b[0m | \u001b[0m 0.61    \u001b[0m | \u001b[0m 0.5313  \u001b[0m | \u001b[0m 0.1431  \u001b[0m | \u001b[0m 3.259   \u001b[0m | \u001b[0m 23.46   \u001b[0m | \u001b[0m 20.74   \u001b[0m | \u001b[0m 76.65   \u001b[0m | \u001b[0m 0.7366  \u001b[0m | \u001b[0m 0.6246  \u001b[0m | \u001b[0m 0.7865  \u001b[0m |\n| \u001b[0m 45      \u001b[0m | \u001b[0m 0.6727  \u001b[0m | \u001b[0m 0.7656  \u001b[0m | \u001b[0m 0.03313 \u001b[0m | \u001b[0m 3.089   \u001b[0m | \u001b[0m 14.97   \u001b[0m | \u001b[0m 39.11   \u001b[0m | \u001b[0m 26.11   \u001b[0m | \u001b[0m 0.8937  \u001b[0m | \u001b[0m 0.2707  \u001b[0m | \u001b[0m 0.9302  \u001b[0m |\n| \u001b[0m 46      \u001b[0m | \u001b[0m 0.6731  \u001b[0m | \u001b[0m 0.5     \u001b[0m | \u001b[0m 0.15    \u001b[0m | \u001b[0m 3.859   \u001b[0m | \u001b[0m 14.19   \u001b[0m | \u001b[0m 38.33   \u001b[0m | \u001b[0m 25.71   \u001b[0m | \u001b[0m 0.5563  \u001b[0m | \u001b[0m 0.3525  \u001b[0m | \u001b[0m 0.6     \u001b[0m |\n| \u001b[0m 47      \u001b[0m | \u001b[0m 0.6883  \u001b[0m | \u001b[0m 0.7954  \u001b[0m | \u001b[0m 0.08453 \u001b[0m | \u001b[0m 2.176   \u001b[0m | \u001b[0m 6.05    \u001b[0m | \u001b[0m 40.6    \u001b[0m | \u001b[0m 55.0    \u001b[0m | \u001b[0m 0.2199  \u001b[0m | \u001b[0m 0.4595  \u001b[0m | \u001b[0m 0.699   \u001b[0m |\n| \u001b[0m 48      \u001b[0m | \u001b[0m 0.669   \u001b[0m | \u001b[0m 0.516   \u001b[0m | \u001b[0m 0.1183  \u001b[0m | \u001b[0m 2.787   \u001b[0m | \u001b[0m 9.21    \u001b[0m | \u001b[0m 44.15   \u001b[0m | \u001b[0m 51.43   \u001b[0m | \u001b[0m 0.03817 \u001b[0m | \u001b[0m 0.9914  \u001b[0m | \u001b[0m 0.7501  \u001b[0m |\n| \u001b[0m 49      \u001b[0m | \u001b[0m 0.6707  \u001b[0m | \u001b[0m 0.6433  \u001b[0m | \u001b[0m 0.1374  \u001b[0m | \u001b[0m 4.814   \u001b[0m | \u001b[0m 3.966   \u001b[0m | \u001b[0m 38.63   \u001b[0m | \u001b[0m 14.21   \u001b[0m | \u001b[0m 0.7185  \u001b[0m | \u001b[0m 0.7601  \u001b[0m | \u001b[0m 0.8194  \u001b[0m |\n| \u001b[0m 50      \u001b[0m | \u001b[0m 0.7053  \u001b[0m | \u001b[0m 0.72    \u001b[0m | \u001b[0m 0.04016 \u001b[0m | \u001b[0m 3.993   \u001b[0m | \u001b[0m 16.22   \u001b[0m | \u001b[0m 38.18   \u001b[0m | \u001b[0m 25.36   \u001b[0m | \u001b[0m 0.7811  \u001b[0m | \u001b[0m 0.9779  \u001b[0m | \u001b[0m 0.6188  \u001b[0m |\n=====================================================================================================================================\nFinal result: {'target': 0.709320987654321, 'params': {'colsample_bytree': 0.5615520102976814, 'learning_rate': 0.0908458208199835, 'max_delta_step': 3.337772575935354, 'max_depth': 13.974611084182738, 'min_child_weight': 38.0182839179346, 'n_estimators': 26.13271506820752, 'reg_alpha': 0.530499894562367, 'reg_lambda': 0.47106899139747455, 'subsample': 0.6193068193591333}}\nCPU times: user 22.6 s, sys: 16.1 s, total: 38.7 s\nWall time: 7.6 s\n"
    }
   ],
   "source": [
    "from sklearn.pipeline import Pipeline\n",
    "from sklearn.preprocessing import PolynomialFeatures\n",
    "from sklearn.preprocessing import StandardScaler\n",
    "from sklearn.svm import SVC\n",
    "from sklearn.model_selection import cross_val_score\n",
    "from sklearn.model_selection import StratifiedShuffleSplit\n",
    "from sklearn.model_selection import GridSearchCV\n",
    "from bayes_opt import BayesianOptimization\n",
    "from sklearn.model_selection import train_test_split\n",
    "from xgboost import XGBClassifier\n",
    "import xgboost as xgb\n",
    "x_train,x_test,y_train,y_test = train_test_split(features,        # 特征空间\n",
    "                                                    tags,      # 输出空间\n",
    "                                                    test_size = 3/12,    # 测试集占k/12个sheet\n",
    "                                                    random_state = 47,  # 为了复现实验，设置一个随机数\n",
    "                                                    shuffle=False\n",
    "                                                    )\n",
    "\n",
    "def svc_cv(C, gamma, data, targets):\n",
    "    \"\"\"SVC cross validation.\n",
    "    This function will instantiate a SVC classifier with parameters C and\n",
    "    gamma. Combined with data and targets this will in turn be used to perform\n",
    "    cross validation. The result of cross validation is returned.\n",
    "    Our goal is to find combinations of C and gamma that maximizes the roc_auc\n",
    "    metric.\n",
    "    \"\"\"\n",
    "    estimator = SVC(C=C, gamma=gamma, random_state=2)\n",
    "    cval = cross_val_score(estimator, data, targets, scoring='roc_auc', cv=4)\n",
    "    # cval = cross_val_score(estimator, data, targets, scoring='recall', cv=4)\n",
    "    return cval.mean()\n",
    "\n",
    "def optimize_svc(data, targets, n_iter=10):\n",
    "    \"\"\"Apply Bayesian Optimization to SVC parameters.\"\"\"\n",
    "\n",
    "    def svc_crossval(expC, expGamma):\n",
    "        \"\"\"Wrapper of SVC cross validation.\n",
    "        Notice how we transform between regular and log scale. While this\n",
    "        is not technically necessary, it greatly improves the performance\n",
    "        of the optimizer.\n",
    "        \"\"\"\n",
    "        C = 10 ** expC\n",
    "        gamma = 10 ** expGamma\n",
    "        return svc_cv(C=C, gamma=gamma, data=data, targets=targets)\n",
    "\n",
    "    optimizer = BayesianOptimization(\n",
    "        f=svc_crossval,\n",
    "        pbounds={\"expC\": (2, 3), \"expGamma\": (2, 3)},\n",
    "        random_state=3333,\n",
    "        verbose=2\n",
    "    )\n",
    "    optimizer.maximize(n_iter=n_iter)\n",
    "\n",
    "    print(\"Final result:\", optimizer.max)\n",
    "\n",
    "\n",
    "def xgboost_cv(data,targets,max_depth,learning_rate,n_estimators,min_child_weight,max_delta_step,subsample,colsample_bytree,reg_alpha,reg_lambda):\n",
    "    \"\"\"SVC cross validation.\n",
    "    This function will instantiate a SVC classifier with parameters C and\n",
    "    gamma. Combined with data and targets this will in turn be used to perform\n",
    "    cross validation. The result of cross validation is returned.\n",
    "    Our goal is to find combinations of C and gamma that maximizes the roc_auc\n",
    "    metric.\n",
    "    \"\"\"\n",
    "    estimator = XGBClassifier(\n",
    "        max_depth=max_depth, \n",
    "        learning_rate=learning_rate,\n",
    "        n_estimators=n_estimators,\n",
    "        min_child_weight=min_child_weight,\n",
    "        max_delta_step=max_delta_step,\n",
    "        subsample=subsample,\n",
    "        colsample_bytree=colsample_bytree,\n",
    "        reg_alpha=reg_alpha,\n",
    "        reg_lambda=reg_lambda,\n",
    "        nthread=5,\n",
    "        # eval_metric='error@'+str(errorat),\n",
    "        # eval_metric='auc',\n",
    "        # eval_metric='recall',\n",
    "        # eval_metric=[\"auc\",\"rmse\",\"logloss\"],\n",
    "        scale_pos_weight=6,\n",
    "        objective='reg:logistic',\n",
    "    )\n",
    "    # cval = cross_val_score(estimator, data, targets, scoring='recall', cv=5)\n",
    "    cval = cross_val_score(estimator, data, targets, scoring='roc_auc', cv=5)\n",
    "    return cval.mean()\n",
    "\n",
    "def optimize_xgboost(data, targets, n_iter=10):\n",
    "    \"\"\"Apply Bayesian Optimization to SVC parameters.\"\"\"\n",
    "\n",
    "    def xgboost_crossval(max_depth,learning_rate,n_estimators,min_child_weight,max_delta_step,subsample,colsample_bytree,reg_alpha,reg_lambda):\n",
    "        return xgboost_cv(data, targets,int(max_depth),learning_rate,int(n_estimators),min_child_weight,max_delta_step,subsample,colsample_bytree,reg_alpha,reg_lambda)\n",
    "\n",
    "    optimizer = BayesianOptimization(\n",
    "        f=xgboost_crossval,\n",
    "        pbounds={\n",
    "            'max_depth': [3, 25],\n",
    "            'learning_rate': [0.01, 0.15],\n",
    "            'n_estimators': [10, 80],\n",
    "            'min_child_weight': [15, 50],\n",
    "            'max_delta_step': [2, 5],\n",
    "            'subsample': [0.6, 0.95],\n",
    "            'colsample_bytree': [0.5, 0.9],\n",
    "            'reg_alpha': [0, 1],\n",
    "            'reg_lambda': [0.2, 1]\n",
    "        },\n",
    "        random_state=3333,\n",
    "        verbose=2\n",
    "    )\n",
    "    optimizer.maximize(n_iter=n_iter)\n",
    "\n",
    "    print(\"Final result:\", optimizer.max)\n",
    "\n",
    "%time optimize_xgboost(x_train,y_train,45)\n",
    "\n",
    "# optimize_svc(features,tags,45)"
   ]
  },
  {
   "cell_type": "code",
   "execution_count": 181,
   "metadata": {},
   "outputs": [
    {
     "output_type": "execute_result",
     "data": {
      "text/plain": "True"
     },
     "metadata": {},
     "execution_count": 181
    }
   ],
   "source": [
    "# 检验数据是否被打乱\n",
    "np.sum((features[:len(x_train)]==x_train)==True)==x_train.shape[0]*x_train.shape[1]"
   ]
  },
  {
   "cell_type": "code",
   "execution_count": 140,
   "metadata": {
    "tags": []
   },
   "outputs": [
    {
     "output_type": "stream",
     "name": "stdout",
     "text": "CPU times: user 55.2 ms, sys: 0 ns, total: 55.2 ms\nWall time: 15.9 ms\n"
    }
   ],
   "source": [
    "from xgboost import XGBClassifier\n",
    "def train_svm(params):\n",
    "    # logspace(a,b,N)把10的a次方到10的b次方区间分成N份\n",
    "    # gamma_range = np.logspace(-9, 3, 10)\n",
    "    # param_grid = dict(gamma=gamma_range, C=C_range)\n",
    "    # cv = StratifiedShuffleSplit(n_splits=10, test_size=0.2, random_state=42)\n",
    "    # p = GridSearchCV(SVC(), param_grid=param_grid, cv=cv)\n",
    "    C = 10 ** params['expC']\n",
    "    gamma = 10 ** params['expGamma']\n",
    "    p=SVC(C=C, gamma=gamma, random_state=2)\n",
    "    p.fit(x_train, y_train)\n",
    "    return p\n",
    "\n",
    "def train_xgboost(params):\n",
    "    model = XGBClassifier(\n",
    "        colsample_bytree=params['colsample_bytree'],\n",
    "        learning_rate=params['learning_rate'],\n",
    "        max_delta_step=params['max_delta_step'],\n",
    "        max_depth=int(params['max_depth']),\n",
    "        min_child_weight=params['min_child_weight'],\n",
    "        n_estimators=int(params['n_estimators']),\n",
    "        reg_alpha=params['reg_alpha'],\n",
    "        reg_lambda=params['reg_lambda'],\n",
    "        subsample=params['subsample'],\n",
    "        eval_metric=[\"auc\",\"rmse\",\"logloss\"],\n",
    "        scale_pos_weight=6,\n",
    "        objective='reg:logistic',\n",
    "    )\n",
    "    model.fit(x_train,y_train)\n",
    "    return model    \n",
    "\n",
    "def train_xgboost2():\n",
    "    model = XGBClassifier(learning_rate=learning_rate, n_estimators=num_round, max_depth=max_depth,\n",
    "                    min_child_weight=min_child_weight, gamma=gamma, subsample=subsample, reg_alpha=reg_alpha,\n",
    "                    reg_lambda=reg_lambda, colsample_bytree=colsample_bytree, objective='binary:logistic',\n",
    "                    nthread=4, scale_pos_weight=scale_pos_weight, seed=seed)\n",
    "    model.fit(x_train,y_train)\n",
    "    return model\n",
    "\n",
    "# %time model = train_svm({'expC': 2.323420033309046, 'expGamma': 1.570225873685972})\n",
    "# %time model = train_xgboost({'colsample_bytree': 0.6777296845518767, 'errorat': 0.4145593781640215, 'learning_rate': 0.02410815068218079, 'max_delta_step': 0.025245950057545707, 'max_depth': 6.086558645510136, 'min_child_weight': 19.58672950443147, 'n_estimators': 232.7855648541887, 'reg_alpha': 0.6165691427262426, 'reg_lambda': 0.8524583027711861, 'subsample': 0.8684270346032827})\n",
    "# %time model = train_xgboost({'colsample_bytree': 0.9, 'errorat': 0.2, 'learning_rate': 0.005, 'max_delta_step': 2.0, 'max_depth': 2.0, 'min_child_weight': 20.0, 'n_estimators': 60.73754308716246, 'reg_alpha': 1.0, 'reg_lambda': 1.0, 'subsample': 0.95})\n",
    "%time model = train_xgboost({'colsample_bytree': 0.5615520102976814, 'learning_rate': 0.0908458208199835, 'max_delta_step': 3.337772575935354, 'max_depth': 13.974611084182738, 'min_child_weight': 38.0182839179346, 'n_estimators': 26.13271506820752, 'reg_alpha': 0.530499894562367, 'reg_lambda': 0.47106899139747455, 'subsample': 0.6193068193591333})\n",
    "\n",
    "# %time model = train_xgboost2()"
   ]
  },
  {
   "cell_type": "code",
   "execution_count": 141,
   "metadata": {
    "tags": []
   },
   "outputs": [
    {
     "output_type": "stream",
     "name": "stdout",
     "text": "[0 0 0 1 0 0 1 0 0 0 0 0 0 0 0 0 0 0 0 0 0 1 0 1 0 0 1 0 0 0 0 0 0 0 1 0 0\n 1 0 0 0 0 0 0 0 0 1 0 0 0]\n[0 0 0 1 1 0 1 0 1 0 1 1 0 0 0 1 0 1 1 1 1 0 0 1 1 1 0 0 0 0 1 0 0 1 1 0 0\n 1 0 0 1 1 0 0 0 1 1 0 0 1]\n"
    },
    {
     "output_type": "execute_result",
     "data": {
      "text/plain": "(0.6277777777777778, 0.6666666666666666)"
     },
     "metadata": {},
     "execution_count": 141
    }
   ],
   "source": [
    "# 评估模型\n",
    "\n",
    "from sklearn.metrics import recall_score\n",
    "from sklearn.metrics import accuracy_score\n",
    "\n",
    "y_pred=model.predict(x_test)\n",
    "\n",
    "print(y_test[:50])\n",
    "print(y_pred[:50])\n",
    "\n",
    "# for sheet_base in range(0,len(y_pred),12*5):\n",
    "#     for batch_base in range(sheet_base,sheet_base+12*5,12):\n",
    "#         i_sheet = sheet_base//(12*5)\n",
    "#         i_event = 1 + (batch_base - sheet_base)//12\n",
    "#         d = y_pred[batch_base:batch_base+12]\n",
    "        \n",
    "    \n",
    "\n",
    "# print(y_pred)\n",
    "\n",
    "# 准确率\n",
    "precision = accuracy_score(y_test, y_pred)\n",
    "# 召回率\n",
    "recall = recall_score(y_test, y_pred)\n",
    "\n",
    "precision, recall"
   ]
  },
  {
   "cell_type": "code",
   "execution_count": 118,
   "metadata": {},
   "outputs": [
    {
     "output_type": "execute_result",
     "data": {
      "text/plain": "array([1, 1, 0, ..., 0, 0, 0])"
     },
     "metadata": {},
     "execution_count": 118
    }
   ],
   "source": []
  }
 ],
 "metadata": {
  "kernelspec": {
   "name": "pycharm-8fa7c23e",
   "language": "python",
   "display_name": "PyCharm (C)"
  },
  "language_info": {
   "codemirror_mode": {
    "name": "ipython",
    "version": 2
   },
   "file_extension": ".py",
   "mimetype": "text/x-python",
   "name": "python",
   "nbconvert_exporter": "python",
   "pygments_lexer": "ipython2",
   "version": "3.7.9-final"
  }
 },
 "nbformat": 4,
 "nbformat_minor": 0
}